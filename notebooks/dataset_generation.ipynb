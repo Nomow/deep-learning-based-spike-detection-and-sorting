{
 "cells": [
  {
   "cell_type": "code",
   "execution_count": 1,
   "metadata": {
    "colab": {},
    "colab_type": "code",
    "id": "clu5BF1zDFN-",
    "scrolled": true
   },
   "outputs": [],
   "source": [
    "from pathlib import Path\n",
    "from os.path import expanduser\n",
    "from os import path\n",
    "import numpy as np\n",
    "import sys\n",
    "import matplotlib.pyplot as plt\n",
    "import torch\n",
    "import torch.nn as nn\n",
    "import torch.nn.functional as F\n",
    "import torch.optim as optim\n",
    "from torchvision import models\n",
    "from torchsummary import summary\n",
    "from torch.utils.data import Dataset, DataLoader\n",
    "from torchvision import transforms, datasets\n",
    "import os"
   ]
  },
  {
   "cell_type": "code",
   "execution_count": 2,
   "metadata": {
    "colab": {},
    "colab_type": "code",
    "id": "jlPnVtlON44_"
   },
   "outputs": [],
   "source": [
    "max_dataset_size = 3000000\n",
    "waveform_length = 72;\n",
    "nb_of_elements = 100\n",
    "device = torch.device(\"cuda:0\" if torch.cuda.is_available() else \"cpu\")\n"
   ]
  },
  {
   "cell_type": "code",
   "execution_count": 3,
   "metadata": {
    "colab": {},
    "colab_type": "code",
    "id": "OiHVHHCmDfwx"
   },
   "outputs": [],
   "source": [
    "root_folder = os.path.dirname(os.getcwd())\n",
    "path_to_recording= path.join(root_folder,'data/recording_datasets/datasets_single9.npy');\n",
    "path_to_ground_truth_data = path.join(root_folder,'data/recording_datasets/single_recording_gd9.npy');\n",
    "path_to_train_data = path.join(root_folder,'data/train_data.npy');\n",
    "path_to_train_labels = path.join(root_folder,'data/train_labels.npy');\n",
    "path_to_noise_data = path.join(root_folder,'data/noise_data.npy');\n",
    "path_to_mean_std = path.join(root_folder,'data/mean_std.npy');\n",
    "sys.path.append(root_folder)\n",
    "from custom_resnet import CustomResnet as cnn"
   ]
  },
  {
   "cell_type": "code",
   "execution_count": 4,
   "metadata": {
    "colab": {},
    "colab_type": "code",
    "id": "Theeks7CF5vN"
   },
   "outputs": [],
   "source": [
    "noise_indices = cnn.GetNoiseIndices(path_to_recording, path_to_ground_truth_data, waveform_length, nb_of_elements);\n",
    "\n"
   ]
  },
  {
   "cell_type": "code",
   "execution_count": 7,
   "metadata": {
    "colab": {},
    "colab_type": "code",
    "id": "ROEegHVsDDmT"
   },
   "outputs": [],
   "source": [
    "noise_class = torch.zeros(1, noise_indices.nelement(), dtype= torch.int);\n",
    "noise_data = torch.cat((noise_indices, noise_class), 0);\n"
   ]
  },
  {
   "cell_type": "code",
   "execution_count": 8,
   "metadata": {
    "colab": {},
    "colab_type": "code",
    "id": "VogF37c5DJNb"
   },
   "outputs": [],
   "source": [
    "np.save(path_to_noise_data, noise_data.numpy());"
   ]
  },
  {
   "cell_type": "code",
   "execution_count": null,
   "metadata": {
    "colab": {
     "base_uri": "https://localhost:8080/",
     "height": 275
    },
    "colab_type": "code",
    "id": "7ZmpKANgAHIv",
    "outputId": "aef7275d-8881-486b-bd91-b0e22508e4aa",
    "scrolled": true
   },
   "outputs": [
    {
     "name": "stdout",
     "output_type": "stream",
     "text": [
      "Automatic pdb calling has been turned ON\n",
      "========== 1 generation ==========\n",
      "temp_dataset_len:  0\n",
      "shift_from:  -18\n",
      "shift_to:  19\n",
      "shift_step:  1\n",
      "shift_indexes:  tensor([-18, -17, -16, -15, -14, -13, -12, -11, -10,  -9,  -8,  -7,  -6,  -5,\n",
      "         -4,  -3,  -2,  -1,   0,   1,   2,   3,   4,   5,   6,   7,   8,   9,\n",
      "         10,  11,  12,  13,  14,  15,  16,  17,  18], dtype=torch.int32)\n",
      "snr_ratio:  None\n",
      "flip_data_horz:  0\n",
      "[ 0.98707844 -0.98707844] [ 1.         -0.97415687]\n",
      "started movingmeanandstd\n"
     ]
    }
   ],
   "source": [
    "%pdb on\n",
    "dataset_spikes = cnn.GenerateDataset(path_to_recording, path_to_ground_truth_data, waveform_length, max_dataset_size);\n"
   ]
  },
  {
   "cell_type": "code",
   "execution_count": null,
   "metadata": {
    "colab": {
     "base_uri": "https://localhost:8080/",
     "height": 258
    },
    "colab_type": "code",
    "id": "nWwFNpO-bwCx",
    "outputId": "66d545b7-cbe3-4511-ebe4-250cba99ed8d"
   },
   "outputs": [],
   "source": [
    "dataset_noise = cnn.GenerateDataset(path_to_recording, path_to_noise_data, waveform_length, max_dataset_size);\n"
   ]
  },
  {
   "cell_type": "code",
   "execution_count": null,
   "metadata": {
    "colab": {},
    "colab_type": "code",
    "id": "8auDlMNlgB_p"
   },
   "outputs": [],
   "source": [
    "dataset_size =  dataset_spikes.__len__() if dataset_spikes.__len__() < dataset_noise.__len__() else  dataset_noise.__len__()"
   ]
  },
  {
   "cell_type": "code",
   "execution_count": null,
   "metadata": {
    "colab": {},
    "colab_type": "code",
    "id": "bJuNzrOLBgog"
   },
   "outputs": [],
   "source": [
    "# convers to np array\n",
    "np_data_spikes = np.zeros((dataset_size, 1, waveform_length));\n",
    "for i, (data, target) in enumerate(dataset_spikes):\n",
    "  np_data_spikes[i, :] = data.numpy();\n",
    "  if(i + 1 == dataset_size):\n",
    "    break;\n",
    "    \n",
    "del dataset_spikes\n",
    "\n",
    "# removes spikes that have mutiple spikes in waveform\n",
    "spike_argmax = np.argmax(np_data_spikes, 2)\n",
    "over_treshold = waveform_length // 2 + waveform_length // 4\n",
    "under_treshold = waveform_length // 2 - waveform_length // 4\n",
    "is_valid_train_data = ((spike_argmax >= under_treshold) & (spike_argmax <= over_treshold)).ravel()\n",
    "np_data_spikes = np_data_spikes[is_valid_train_data, :, :]\n",
    "dataset_size = np_data_spikes.shape[0]\n",
    "np_classes_spikes = np.ones(dataset_size)\n",
    "\n",
    "\n",
    "np_data_noise = np.zeros((dataset_size, 1, waveform_length));\n",
    "np_classes_noise = np.zeros(dataset_size)\n",
    "for i, (data, target) in enumerate(dataset_noise):\n",
    "  np_data_noise[i, :] = data.numpy();\n",
    "  if(i + 1 == dataset_size):\n",
    "    break;\n",
    "    \n",
    "del dataset_noise\n",
    "\n",
    "    \n"
   ]
  },
  {
   "cell_type": "code",
   "execution_count": 11,
   "metadata": {
    "colab": {
     "base_uri": "https://localhost:8080/",
     "height": 34
    },
    "colab_type": "code",
    "id": "b2EZl1lN_JMy",
    "outputId": "f3dccc1d-be6b-4216-fecc-4d853a814578"
   },
   "outputs": [
    {
     "data": {
      "text/plain": [
       "(2052355, 1, 72)"
      ]
     },
     "execution_count": 11,
     "metadata": {},
     "output_type": "execute_result"
    }
   ],
   "source": [
    "print(np_data_noise.shape)\n",
    "print(np_data_spikes.shape)\n",
    "print()"
   ]
  },
  {
   "cell_type": "code",
   "execution_count": 12,
   "metadata": {
    "colab": {},
    "colab_type": "code",
    "id": "dMbWDqN6ixGF"
   },
   "outputs": [],
   "source": [
    "dataset = np.concatenate((np_data_spikes, np_data_noise), 0);"
   ]
  },
  {
   "cell_type": "code",
   "execution_count": 13,
   "metadata": {
    "colab": {},
    "colab_type": "code",
    "id": "nk18-eSVkDpl"
   },
   "outputs": [],
   "source": [
    "labels = np.concatenate((np_classes_spikes, np_classes_noise), 0); "
   ]
  },
  {
   "cell_type": "code",
   "execution_count": 14,
   "metadata": {
    "colab": {},
    "colab_type": "code",
    "id": "5UvvNYbJ_wnq"
   },
   "outputs": [],
   "source": [
    "np.save(path_to_train_data, dataset)\n",
    "np.save(path_to_train_labels, labels)\n"
   ]
  },
  {
   "cell_type": "code",
   "execution_count": 15,
   "metadata": {
    "colab": {
     "base_uri": "https://localhost:8080/",
     "height": 51
    },
    "colab_type": "code",
    "id": "6UVvA-ndpdyb",
    "outputId": "f8e7d31c-64ff-461d-f4b7-d5ea4be0ac04"
   },
   "outputs": [
    {
     "name": "stdout",
     "output_type": "stream",
     "text": [
      "-0.2170090691327021\n",
      "2.2166302240541316\n"
     ]
    }
   ],
   "source": [
    "mean = (np.mean(np_data_spikes))\n",
    "std = (np.std(np_data_spikes))\n",
    "np.save(path_to_mean_std, [mean, std])\n",
    "\n",
    "print(mean)\n",
    "print(std)"
   ]
  },
  {
   "cell_type": "code",
   "execution_count": 16,
   "metadata": {
    "colab": {
     "base_uri": "https://localhost:8080/",
     "height": 364
    },
    "colab_type": "code",
    "id": "bqiWa8XRGmuy",
    "outputId": "8d3c7d12-2ca4-48ab-fe01-2f5dada84ca9"
   },
   "outputs": [
    {
     "data": {
      "text/plain": [
       "53"
      ]
     },
     "execution_count": 16,
     "metadata": {},
     "output_type": "execute_result"
    },
    {
     "data": {
      "image/png": "[encoded data removed]",
      "text/plain": [
       "<Figure size 432x288 with 1 Axes>"
      ]
     },
     "metadata": {
      "needs_background": "light"
     },
     "output_type": "display_data"
    }
   ],
   "source": [
    "import matplotlib.pyplot as plt\n",
    "rnd = np.random.randint(0, np_data_spikes.shape[0]);\n",
    "plt.plot(np_data_spikes[rnd, 0, :])\n",
    "np.argmax(np_data_spikes[rnd, 0, :])"
   ]
  },
  {
   "cell_type": "code",
   "execution_count": null,
   "metadata": {},
   "outputs": [],
   "source": []
  },
  {
   "cell_type": "code",
   "execution_count": null,
   "metadata": {},
   "outputs": [],
   "source": []
  },
  {
   "cell_type": "code",
   "execution_count": null,
   "metadata": {},
   "outputs": [],
   "source": []
  },
  {
   "cell_type": "code",
   "execution_count": null,
   "metadata": {},
   "outputs": [],
   "source": []
  },
  {
   "cell_type": "code",
   "execution_count": null,
   "metadata": {},
   "outputs": [],
   "source": [
    "\n"
   ]
  },
  {
   "cell_type": "code",
   "execution_count": null,
   "metadata": {},
   "outputs": [],
   "source": []
  },
  {
   "cell_type": "code",
   "execution_count": null,
   "metadata": {},
   "outputs": [],
   "source": []
  },
  {
   "cell_type": "code",
   "execution_count": null,
   "metadata": {},
   "outputs": [],
   "source": []
  },
  {
   "cell_type": "code",
   "execution_count": null,
   "metadata": {},
   "outputs": [],
   "source": []
  },
  {
   "cell_type": "code",
   "execution_count": null,
   "metadata": {},
   "outputs": [],
   "source": []
  }
 ],
 "metadata": {
  "accelerator": "GPU",
  "colab": {
   "collapsed_sections": [],
   "name": "dataset_generation",
   "provenance": [],
   "version": "0.3.2"
  },
  "kernelspec": {
   "display_name": "Python 3",
   "language": "python",
   "name": "python3"
  },
  "language_info": {
   "codemirror_mode": {
    "name": "ipython",
    "version": 3
   },
   "file_extension": ".py",
   "mimetype": "text/x-python",
   "name": "python",
   "nbconvert_exporter": "python",
   "pygments_lexer": "ipython3",
   "version": "3.5.2"
  }
 },
 "nbformat": 4,
 "nbformat_minor": 1
}
