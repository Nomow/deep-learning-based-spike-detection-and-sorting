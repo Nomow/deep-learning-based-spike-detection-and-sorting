{
 "cells": [
  {
   "cell_type": "code",
   "execution_count": 1,
   "metadata": {
    "colab": {},
    "colab_type": "code",
    "id": "clu5BF1zDFN-"
   },
   "outputs": [],
   "source": [
    "from pathlib import Path\n",
    "from os.path import expanduser\n",
    "from os import path\n",
    "import numpy as np\n",
    "import sys\n",
    "import matplotlib.pyplot as plt\n",
    "import torch\n",
    "import torch.nn as nn\n",
    "import torch.nn.functional as F\n",
    "import torch.optim as optim\n",
    "from torchvision import models\n",
    "from torchsummary import summary\n",
    "from torch.utils.data import Dataset, DataLoader\n",
    "from torchvision import transforms, datasets\n",
    "import os"
   ]
  },
  {
   "cell_type": "code",
   "execution_count": 2,
   "metadata": {
    "colab": {},
    "colab_type": "code",
    "id": "jlPnVtlON44_"
   },
   "outputs": [],
   "source": [
    "max_dataset_size = 6000000\n",
    "waveform_length = 72;\n",
    "nb_of_elements = 100000\n",
    "device = torch.device(\"cuda:0\" if torch.cuda.is_available() else \"cpu\")\n"
   ]
  },
  {
   "cell_type": "code",
   "execution_count": 3,
   "metadata": {
    "colab": {},
    "colab_type": "code",
    "id": "OiHVHHCmDfwx"
   },
   "outputs": [],
   "source": [
    "root_folder = os.path.dirname(os.getcwd())\n",
    "path_to_recording= path.join(root_folder,'data/single_channel_data.npy');\n",
    "path_to_ground_truth_data = path.join(root_folder,'data/single_channel_spike_train.npy');\n",
    "path_to_train_data = path.join(root_folder,'data/train_data.npy');\n",
    "path_to_train_labels = path.join(root_folder,'data/train_labels.npy');\n",
    "path_to_noise_data = path.join(root_folder,'data/noise_data.npy');\n",
    "path_to_mean_std = path.join(root_folder,'data/mean_std.npy');\n",
    "sys.path.append(root_folder)\n",
    "from custom_resnet import CustomResnet as cnn"
   ]
  },
  {
   "cell_type": "code",
   "execution_count": 4,
   "metadata": {
    "colab": {},
    "colab_type": "code",
    "id": "Theeks7CF5vN"
   },
   "outputs": [],
   "source": [
    "noise_indices = cnn.GetNoiseIndices(path_to_recording, path_to_ground_truth_data, waveform_length, nb_of_elements);\n",
    "\n"
   ]
  },
  {
   "cell_type": "code",
   "execution_count": 5,
   "metadata": {
    "colab": {},
    "colab_type": "code",
    "id": "ROEegHVsDDmT"
   },
   "outputs": [],
   "source": [
    "noise_class = torch.zeros(1, noise_indices.nelement(), dtype= torch.int);\n",
    "noise_data = torch.cat((noise_indices, noise_class), 0);\n"
   ]
  },
  {
   "cell_type": "code",
   "execution_count": 6,
   "metadata": {
    "colab": {},
    "colab_type": "code",
    "id": "VogF37c5DJNb"
   },
   "outputs": [],
   "source": [
    "np.save(path_to_noise_data, noise_data.numpy());"
   ]
  },
  {
   "cell_type": "code",
   "execution_count": 7,
   "metadata": {
    "colab": {
     "base_uri": "https://localhost:8080/",
     "height": 275
    },
    "colab_type": "code",
    "id": "7ZmpKANgAHIv",
    "outputId": "aef7275d-8881-486b-bd91-b0e22508e4aa"
   },
   "outputs": [
    {
     "name": "stdout",
     "output_type": "stream",
     "text": [
      "========== 1 generation ==========\n",
      "temp_dataset_len:  0\n",
      "shift_from:  -18\n",
      "shift_to:  19\n",
      "shift_step:  4\n",
      "shift_indexes:  tensor([-18, -14, -10,  -6,  -2,   2,   6,  10,  14,  18], dtype=torch.int32)\n",
      "snr_ratio:  None\n",
      "flip_data 2\n"
     ]
    },
    {
     "name": "stderr",
     "output_type": "stream",
     "text": [
      "/home/vtpc/Documents/Alvils/spike-sorting/custom_resnet/CustomResnet.py:291: UserWarning: To copy construct from a tensor, it is recommended to use sourceTensor.clone().detach() or sourceTensor.clone().detach().requires_grad_(True), rather than tensor.new_tensor(sourceTensor).\n",
      "  temp = temp.new_tensor(data);\n"
     ]
    },
    {
     "name": "stdout",
     "output_type": "stream",
     "text": [
      "temp_dataset_len_after:  0 369100\n",
      "temp_dataset_len_after:  1 738200\n",
      "dataset len:  1 738200\n",
      "========== 2 generation ==========\n",
      "temp_dataset_len:  0\n",
      "shift_from:  -14\n",
      "shift_to:  5\n",
      "shift_step:  4\n",
      "shift_indexes:  tensor([-14, -10,  -6,  -2,   2], dtype=torch.int32)\n",
      "snr_ratio:  14.725915947409174\n",
      "flip_data 2\n",
      "temp_dataset_len_after:  0 184550\n",
      "temp_dataset_len_after:  1 369100\n",
      "dataset len:  1 1107300\n",
      "========== 3 generation ==========\n",
      "temp_dataset_len:  0\n",
      "shift_from:  -17\n",
      "shift_to:  18\n",
      "shift_step:  1\n",
      "shift_indexes:  tensor([-17, -16, -15, -14, -13, -12, -11, -10,  -9,  -8,  -7,  -6,  -5,  -4,\n",
      "         -3,  -2,  -1,   0,   1,   2,   3,   4,   5,   6,   7,   8,   9,  10,\n",
      "         11,  12,  13,  14,  15,  16,  17], dtype=torch.int32)\n",
      "snr_ratio:  13.219228750849387\n",
      "flip_data 1\n",
      "temp_dataset_len_after:  0 1291850\n",
      "dataset len:  0 2399150\n",
      "========== 4 generation ==========\n",
      "temp_dataset_len:  0\n",
      "shift_from:  -13\n",
      "shift_to:  12\n",
      "shift_step:  2\n",
      "shift_indexes:  tensor([-13, -11,  -9,  -7,  -5,  -3,  -1,   1,   3,   5,   7,   9,  11],\n",
      "       dtype=torch.int32)\n",
      "snr_ratio:  7.9798365618511085\n",
      "flip_data 1\n",
      "temp_dataset_len_after:  0 479830\n",
      "dataset len:  0 2878980\n",
      "========== 5 generation ==========\n",
      "temp_dataset_len:  0\n",
      "shift_from:  -4\n",
      "shift_to:  12\n",
      "shift_step:  1\n",
      "shift_indexes:  tensor([-4, -3, -2, -1,  0,  1,  2,  3,  4,  5,  6,  7,  8,  9, 10, 11],\n",
      "       dtype=torch.int32)\n",
      "snr_ratio:  24.715922022212965\n",
      "flip_data 1\n",
      "temp_dataset_len_after:  0 590560\n",
      "dataset len:  0 3469540\n",
      "========== 6 generation ==========\n",
      "temp_dataset_len:  0\n",
      "shift_from:  -17\n",
      "shift_to:  7\n",
      "shift_step:  3\n",
      "shift_indexes:  tensor([-17, -14, -11,  -8,  -5,  -2,   1,   4], dtype=torch.int32)\n",
      "snr_ratio:  19.888342316394322\n",
      "flip_data 2\n",
      "temp_dataset_len_after:  0 295280\n",
      "temp_dataset_len_after:  1 590560\n",
      "dataset len:  1 4060100\n",
      "========== 7 generation ==========\n",
      "temp_dataset_len:  0\n",
      "shift_from:  -2\n",
      "shift_to:  13\n",
      "shift_step:  4\n",
      "shift_indexes:  tensor([-2,  2,  6, 10], dtype=torch.int32)\n",
      "snr_ratio:  13.222330201952948\n",
      "flip_data 1\n",
      "temp_dataset_len_after:  0 147640\n",
      "dataset len:  0 4207740\n",
      "========== 8 generation ==========\n",
      "temp_dataset_len:  0\n",
      "shift_from:  -3\n",
      "shift_to:  0\n",
      "shift_step:  1\n",
      "shift_indexes:  tensor([-3, -2, -1], dtype=torch.int32)\n",
      "snr_ratio:  8.788337991287792\n",
      "flip_data 2\n",
      "temp_dataset_len_after:  0 110730\n",
      "temp_dataset_len_after:  1 221460\n",
      "dataset len:  1 4429200\n",
      "========== 9 generation ==========\n",
      "temp_dataset_len:  0\n",
      "shift_from:  -15\n",
      "shift_to:  5\n",
      "shift_step:  3\n",
      "shift_indexes:  tensor([-15, -12,  -9,  -6,  -3,   0,   3], dtype=torch.int32)\n",
      "snr_ratio:  12.944858553825327\n",
      "flip_data 2\n",
      "temp_dataset_len_after:  0 258370\n",
      "temp_dataset_len_after:  1 516740\n",
      "dataset len:  1 4945940\n",
      "========== 10 generation ==========\n",
      "temp_dataset_len:  0\n",
      "shift_from:  -2\n",
      "shift_to:  5\n",
      "shift_step:  4\n",
      "shift_indexes:  tensor([-2,  2], dtype=torch.int32)\n",
      "snr_ratio:  6.3000022209044095\n",
      "flip_data 1\n",
      "temp_dataset_len_after:  0 73820\n",
      "dataset len:  0 5019760\n",
      "========== 11 generation ==========\n",
      "temp_dataset_len:  0\n",
      "shift_from:  -7\n",
      "shift_to:  7\n",
      "shift_step:  2\n",
      "shift_indexes:  tensor([-7, -5, -3, -1,  1,  3,  5], dtype=torch.int32)\n",
      "snr_ratio:  6.718110774770231\n",
      "flip_data 2\n",
      "temp_dataset_len_after:  0 258370\n",
      "temp_dataset_len_after:  1 516740\n",
      "dataset len:  1 5536500\n",
      "========== 12 generation ==========\n",
      "temp_dataset_len:  0\n",
      "shift_from:  -18\n",
      "shift_to:  3\n",
      "shift_step:  1\n",
      "shift_indexes:  tensor([-18, -17, -16, -15, -14, -13, -12, -11, -10,  -9,  -8,  -7,  -6,  -5,\n",
      "         -4,  -3,  -2,  -1,   0,   1,   2], dtype=torch.int32)\n",
      "snr_ratio:  28.07210545891285\n",
      "flip_data 1\n",
      "temp_dataset_len_after:  0 775110\n",
      "dataset len:  0 6311610\n"
     ]
    }
   ],
   "source": [
    "dataset_spikes = cnn.GenerateDataset(path_to_recording, path_to_ground_truth_data, waveform_length, max_dataset_size);\n"
   ]
  },
  {
   "cell_type": "code",
   "execution_count": 8,
   "metadata": {
    "colab": {
     "base_uri": "https://localhost:8080/",
     "height": 258
    },
    "colab_type": "code",
    "id": "nWwFNpO-bwCx",
    "outputId": "66d545b7-cbe3-4511-ebe4-250cba99ed8d"
   },
   "outputs": [
    {
     "name": "stdout",
     "output_type": "stream",
     "text": [
      "========== 1 generation ==========\n",
      "temp_dataset_len:  0\n",
      "shift_from:  -18\n",
      "shift_to:  19\n",
      "shift_step:  4\n",
      "shift_indexes:  tensor([-18, -14, -10,  -6,  -2,   2,   6,  10,  14,  18], dtype=torch.int32)\n",
      "snr_ratio:  None\n",
      "flip_data 2\n",
      "temp_dataset_len_after:  0 1000000\n",
      "temp_dataset_len_after:  1 2000000\n",
      "dataset len:  1 2000000\n",
      "========== 2 generation ==========\n",
      "temp_dataset_len:  0\n",
      "shift_from:  -2\n",
      "shift_to:  1\n",
      "shift_step:  4\n",
      "shift_indexes:  tensor([-2], dtype=torch.int32)\n",
      "snr_ratio:  6.297774501230192\n",
      "flip_data 2\n",
      "temp_dataset_len_after:  0 100000\n",
      "temp_dataset_len_after:  1 200000\n",
      "dataset len:  1 2200000\n",
      "========== 3 generation ==========\n",
      "temp_dataset_len:  0\n",
      "shift_from:  -2\n",
      "shift_to:  5\n",
      "shift_step:  3\n",
      "shift_indexes:  tensor([-2,  1,  4], dtype=torch.int32)\n",
      "snr_ratio:  13.30160465387763\n",
      "flip_data 2\n",
      "temp_dataset_len_after:  0 300000\n",
      "temp_dataset_len_after:  1 600000\n",
      "dataset len:  1 2800000\n",
      "========== 4 generation ==========\n",
      "temp_dataset_len:  0\n",
      "shift_from:  -2\n",
      "shift_to:  15\n",
      "shift_step:  4\n",
      "shift_indexes:  tensor([-2,  2,  6, 10, 14], dtype=torch.int32)\n",
      "snr_ratio:  26.82357215867318\n",
      "flip_data 2\n",
      "temp_dataset_len_after:  0 500000\n",
      "temp_dataset_len_after:  1 1000000\n",
      "dataset len:  1 3800000\n",
      "========== 5 generation ==========\n",
      "temp_dataset_len:  0\n",
      "shift_from:  -17\n",
      "shift_to:  17\n",
      "shift_step:  3\n",
      "shift_indexes:  tensor([-17, -14, -11,  -8,  -5,  -2,   1,   4,   7,  10,  13,  16],\n",
      "       dtype=torch.int32)\n",
      "snr_ratio:  18.590697837560544\n",
      "flip_data 2\n",
      "temp_dataset_len_after:  0 1200000\n",
      "temp_dataset_len_after:  1 2400000\n",
      "dataset len:  1 6200000\n"
     ]
    }
   ],
   "source": [
    "dataset_noise = cnn.GenerateDataset(path_to_recording, path_to_noise_data, waveform_length, max_dataset_size);\n"
   ]
  },
  {
   "cell_type": "code",
   "execution_count": 9,
   "metadata": {
    "colab": {},
    "colab_type": "code",
    "id": "8auDlMNlgB_p"
   },
   "outputs": [],
   "source": [
    "dataset_size =  dataset_spikes.__len__() if dataset_spikes.__len__() < dataset_noise.__len__() else  dataset_noise.__len__()"
   ]
  },
  {
   "cell_type": "code",
   "execution_count": 10,
   "metadata": {
    "colab": {},
    "colab_type": "code",
    "id": "bJuNzrOLBgog"
   },
   "outputs": [],
   "source": [
    "# convers to np array\n",
    "np_data_spikes = np.zeros((dataset_size, 1, waveform_length));\n",
    "for i, (data, target) in enumerate(dataset_spikes):\n",
    "  np_data_spikes[i, :] = data.numpy();\n",
    "  if(i + 1 == dataset_size):\n",
    "    break;\n",
    "    \n",
    "del dataset_spikes\n",
    "\n",
    "# removes spikes that have mutiple spikes in waveform\n",
    "spike_argmax = np.argmax(np_data_spikes, 2)\n",
    "over_treshold = waveform_length // 2 + waveform_length // 4\n",
    "under_treshold = waveform_length // 2 - waveform_length // 4\n",
    "is_valid_train_data = ((spike_argmax >= under_treshold) & (spike_argmax <= over_treshold)).ravel()\n",
    "np_data_spikes = np_data_spikes[is_valid_train_data, :, :]\n",
    "dataset_size = np_data_spikes.shape[0]\n",
    "np_classes_spikes = np.ones(dataset_size)\n",
    "\n",
    "\n",
    "np_data_noise = np.zeros((dataset_size, 1, waveform_length));\n",
    "np_classes_noise = np.zeros(dataset_size)\n",
    "for i, (data, target) in enumerate(dataset_noise):\n",
    "  np_data_noise[i, :] = data.numpy();\n",
    "  if(i + 1 == dataset_size):\n",
    "    break;\n",
    "    \n",
    "del dataset_noise\n",
    "\n",
    "    \n"
   ]
  },
  {
   "cell_type": "code",
   "execution_count": 11,
   "metadata": {
    "colab": {
     "base_uri": "https://localhost:8080/",
     "height": 34
    },
    "colab_type": "code",
    "id": "b2EZl1lN_JMy",
    "outputId": "f3dccc1d-be6b-4216-fecc-4d853a814578"
   },
   "outputs": [
    {
     "data": {
      "text/plain": [
       "(6111952, 1, 72)"
      ]
     },
     "execution_count": 11,
     "metadata": {},
     "output_type": "execute_result"
    }
   ],
   "source": [
    "np_data_noise.shape"
   ]
  },
  {
   "cell_type": "code",
   "execution_count": 12,
   "metadata": {
    "colab": {},
    "colab_type": "code",
    "id": "dMbWDqN6ixGF"
   },
   "outputs": [],
   "source": [
    "dataset = np.concatenate((np_data_spikes, np_data_noise), 0);"
   ]
  },
  {
   "cell_type": "code",
   "execution_count": 13,
   "metadata": {
    "colab": {},
    "colab_type": "code",
    "id": "nk18-eSVkDpl"
   },
   "outputs": [],
   "source": [
    "labels = np.concatenate((np_classes_spikes, np_classes_noise), 0); "
   ]
  },
  {
   "cell_type": "code",
   "execution_count": 14,
   "metadata": {
    "colab": {},
    "colab_type": "code",
    "id": "5UvvNYbJ_wnq"
   },
   "outputs": [],
   "source": [
    "np.save(path_to_train_data, dataset)\n",
    "np.save(path_to_train_labels, labels)\n"
   ]
  },
  {
   "cell_type": "code",
   "execution_count": 15,
   "metadata": {
    "colab": {
     "base_uri": "https://localhost:8080/",
     "height": 51
    },
    "colab_type": "code",
    "id": "6UVvA-ndpdyb",
    "outputId": "f8e7d31c-64ff-461d-f4b7-d5ea4be0ac04"
   },
   "outputs": [
    {
     "name": "stdout",
     "output_type": "stream",
     "text": [
      "0.10000542904712027\n",
      "0.41506710104839384\n"
     ]
    }
   ],
   "source": [
    "mean = (np.mean(np_data_spikes))\n",
    "std = (np.std(np_data_spikes))\n",
    "np.save(path_to_mean_std, [mean, std])\n",
    "\n",
    "print(mean)\n",
    "print(std)"
   ]
  },
  {
   "cell_type": "code",
   "execution_count": 16,
   "metadata": {
    "colab": {
     "base_uri": "https://localhost:8080/",
     "height": 364
    },
    "colab_type": "code",
    "id": "bqiWa8XRGmuy",
    "outputId": "8d3c7d12-2ca4-48ab-fe01-2f5dada84ca9"
   },
   "outputs": [
    {
     "data": {
      "text/plain": [
       "21"
      ]
     },
     "execution_count": 16,
     "metadata": {},
     "output_type": "execute_result"
    },
    {
     "data": {
      "image/png": "[encoded data removed]",
      "text/plain": [
       "<Figure size 432x288 with 1 Axes>"
      ]
     },
     "metadata": {
      "needs_background": "light"
     },
     "output_type": "display_data"
    }
   ],
   "source": [
    "import matplotlib.pyplot as plt\n",
    "rnd = np.random.randint(0, dataset_size);\n",
    "plt.plot(np_data_spikes[rnd, 0, :])\n",
    "np.argmax(np_data_spikes[rnd, 0, :])"
   ]
  }
 ],
 "metadata": {
  "accelerator": "GPU",
  "colab": {
   "collapsed_sections": [],
   "name": "dataset_generation",
   "provenance": [],
   "version": "0.3.2"
  },
  "kernelspec": {
   "display_name": "Python 3",
   "language": "python",
   "name": "python3"
  },
  "language_info": {
   "codemirror_mode": {
    "name": "ipython",
    "version": 3
   },
   "file_extension": ".py",
   "mimetype": "text/x-python",
   "name": "python",
   "nbconvert_exporter": "python",
   "pygments_lexer": "ipython3",
   "version": "3.5.2"
  }
 },
 "nbformat": 4,
 "nbformat_minor": 1
}
