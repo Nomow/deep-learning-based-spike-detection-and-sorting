{
 "cells": [
  {
   "cell_type": "code",
   "execution_count": 1,
   "metadata": {
    "colab": {},
    "colab_type": "code",
    "id": "clu5BF1zDFN-",
    "scrolled": true
   },
   "outputs": [],
   "source": [
    "from pathlib import Path\n",
    "from os.path import expanduser\n",
    "from os import path\n",
    "import numpy as np\n",
    "import sys\n",
    "import matplotlib.pyplot as plt\n",
    "import torch\n",
    "import torch.nn as nn\n",
    "import torch.nn.functional as F\n",
    "import torch.optim as optim\n",
    "from torchvision import models\n",
    "from torchsummary import summary\n",
    "from torch.utils.data import Dataset, DataLoader\n",
    "from torchvision import transforms, datasets\n",
    "import os"
   ]
  },
  {
   "cell_type": "code",
   "execution_count": 2,
   "metadata": {
    "colab": {},
    "colab_type": "code",
    "id": "jlPnVtlON44_"
   },
   "outputs": [],
   "source": [
    "max_dataset_size = 6000000\n",
    "waveform_length = 72;\n",
    "nb_of_elements = 100000\n",
    "device = torch.device(\"cuda:0\" if torch.cuda.is_available() else \"cpu\")\n"
   ]
  },
  {
   "cell_type": "code",
   "execution_count": 3,
   "metadata": {
    "colab": {},
    "colab_type": "code",
    "id": "OiHVHHCmDfwx"
   },
   "outputs": [],
   "source": [
    "root_folder = os.path.dirname(os.getcwd())\n",
    "path_to_recording= path.join(root_folder,'data/recording_datasets/datasets_1.npy');\n",
    "path_to_ground_truth_data = path.join(root_folder,'data/recording_datasets/ground_truth_data_multiunit_1.npy');\n",
    "path_to_train_data = path.join(root_folder,'data/train_data.npy');\n",
    "path_to_train_labels = path.join(root_folder,'data/train_labels.npy');\n",
    "path_to_noise_data = path.join(root_folder,'data/noise_data.npy');\n",
    "path_to_mean_std = path.join(root_folder,'data/mean_std.npy');\n",
    "sys.path.append(root_folder)\n",
    "from custom_resnet import CustomResnet as cnn"
   ]
  },
  {
   "cell_type": "code",
   "execution_count": 4,
   "metadata": {
    "colab": {},
    "colab_type": "code",
    "id": "Theeks7CF5vN"
   },
   "outputs": [],
   "source": [
    "noise_indices = cnn.GetNoiseIndices(path_to_recording, path_to_ground_truth_data, waveform_length, nb_of_elements);\n",
    "\n"
   ]
  },
  {
   "cell_type": "code",
   "execution_count": null,
   "metadata": {
    "colab": {},
    "colab_type": "code",
    "id": "ROEegHVsDDmT"
   },
   "outputs": [],
   "source": [
    "noise_class = torch.zeros(1, noise_indices.nelement(), dtype= torch.int);\n",
    "noise_data = torch.cat((noise_indices, noise_class), 0);\n"
   ]
  },
  {
   "cell_type": "code",
   "execution_count": null,
   "metadata": {
    "colab": {},
    "colab_type": "code",
    "id": "VogF37c5DJNb"
   },
   "outputs": [],
   "source": [
    "np.save(path_to_noise_data, noise_data.numpy());"
   ]
  },
  {
   "cell_type": "code",
   "execution_count": null,
   "metadata": {
    "colab": {
     "base_uri": "https://localhost:8080/",
     "height": 275
    },
    "colab_type": "code",
    "id": "7ZmpKANgAHIv",
    "outputId": "aef7275d-8881-486b-bd91-b0e22508e4aa"
   },
   "outputs": [
    {
     "name": "stdout",
     "output_type": "stream",
     "text": [
      "========== 1 generation ==========\n",
      "temp_dataset_len:  0\n",
      "shift_from:  -18\n",
      "shift_to:  19\n",
      "shift_step:  4\n",
      "shift_indexes:  tensor([-18, -14, -10,  -6,  -2,   2,   6,  10,  14,  18], dtype=torch.int32)\n",
      "snr_ratio:  None\n",
      "flip_data_horz:  0\n",
      "flip_data_vert:  0\n"
     ]
    },
    {
     "name": "stderr",
     "output_type": "stream",
     "text": [
      "/home/vtpc/Documents/Alvils/spike-sorting/custom_resnet/CustomResnet.py:291: UserWarning: To copy construct from a tensor, it is recommended to use sourceTensor.clone().detach() or sourceTensor.clone().detach().requires_grad_(True), rather than tensor.new_tensor(sourceTensor).\n",
      "  temp = temp.new_tensor(data);\n"
     ]
    },
    {
     "name": "stdout",
     "output_type": "stream",
     "text": [
      "temp_dataset_len_after:  509580\n",
      "temp_dataset_len_after:  1019160\n",
      "dataset len:  1019160\n",
      "========== 2 generation ==========\n",
      "temp_dataset_len:  0\n",
      "shift_from:  -14\n",
      "shift_to:  12\n",
      "shift_step:  2\n",
      "shift_indexes:  tensor([-14, -12, -10,  -8,  -6,  -4,  -2,   0,   2,   4,   6,   8,  10],\n",
      "       dtype=torch.int32)\n",
      "snr_ratio:  7.363793755588508\n",
      "flip_data_horz:  1\n",
      "flip_data_vert:  0\n",
      "72000000\n",
      "temp_dataset_len_after:  662454\n",
      "72000000\n",
      "temp_dataset_len_after:  1324908\n",
      "dataset len:  2344068\n",
      "========== 3 generation ==========\n",
      "temp_dataset_len:  0\n",
      "shift_from:  -1\n",
      "shift_to:  6\n",
      "shift_step:  4\n",
      "shift_indexes:  tensor([-1,  3], dtype=torch.int32)\n",
      "snr_ratio:  15.733555107696612\n",
      "flip_data_horz:  1\n",
      "flip_data_vert:  1\n",
      "72000000\n",
      "temp_dataset_len_after:  101916\n",
      "72000000\n",
      "temp_dataset_len_after:  203832\n",
      "dataset len:  2547900\n",
      "========== 4 generation ==========\n",
      "temp_dataset_len:  0\n",
      "shift_from:  -7\n",
      "shift_to:  12\n",
      "shift_step:  4\n",
      "shift_indexes:  tensor([-7, -3,  1,  5,  9], dtype=torch.int32)\n",
      "snr_ratio:  14.165114860629286\n",
      "flip_data_horz:  0\n",
      "flip_data_vert:  0\n",
      "72000000\n",
      "temp_dataset_len_after:  254790\n",
      "72000000\n",
      "temp_dataset_len_after:  509580\n",
      "dataset len:  3057480\n",
      "========== 5 generation ==========\n",
      "temp_dataset_len:  0\n",
      "shift_from:  -3\n",
      "shift_to:  12\n",
      "shift_step:  3\n",
      "shift_indexes:  tensor([-3,  0,  3,  6,  9], dtype=torch.int32)\n",
      "snr_ratio:  30.02555262371375\n",
      "flip_data_horz:  0\n",
      "flip_data_vert:  1\n",
      "72000000\n",
      "temp_dataset_len_after:  254790\n",
      "72000000\n",
      "temp_dataset_len_after:  509580\n",
      "dataset len:  3567060\n",
      "========== 6 generation ==========\n",
      "temp_dataset_len:  0\n",
      "shift_from:  -17\n",
      "shift_to:  8\n",
      "shift_step:  3\n",
      "shift_indexes:  tensor([-17, -14, -11,  -8,  -5,  -2,   1,   4,   7], dtype=torch.int32)\n",
      "snr_ratio:  5.343749326304695\n",
      "flip_data_horz:  0\n",
      "flip_data_vert:  0\n",
      "72000000\n",
      "temp_dataset_len_after:  458622\n",
      "72000000\n",
      "temp_dataset_len_after:  917244\n",
      "dataset len:  4484304\n",
      "========== 7 generation ==========\n",
      "temp_dataset_len:  0\n",
      "shift_from:  -10\n",
      "shift_to:  15\n",
      "shift_step:  1\n",
      "shift_indexes:  tensor([-10,  -9,  -8,  -7,  -6,  -5,  -4,  -3,  -2,  -1,   0,   1,   2,   3,\n",
      "          4,   5,   6,   7,   8,   9,  10,  11,  12,  13,  14],\n",
      "       dtype=torch.int32)\n",
      "snr_ratio:  28.581649721541815\n",
      "flip_data_horz:  0\n",
      "flip_data_vert:  1\n",
      "72000000\n"
     ]
    }
   ],
   "source": [
    "dataset_spikes = cnn.GenerateDataset(path_to_recording, path_to_ground_truth_data, waveform_length, max_dataset_size);\n"
   ]
  },
  {
   "cell_type": "code",
   "execution_count": null,
   "metadata": {
    "colab": {
     "base_uri": "https://localhost:8080/",
     "height": 258
    },
    "colab_type": "code",
    "id": "nWwFNpO-bwCx",
    "outputId": "66d545b7-cbe3-4511-ebe4-250cba99ed8d"
   },
   "outputs": [],
   "source": [
    "dataset_noise = cnn.GenerateDataset(path_to_recording, path_to_noise_data, waveform_length, max_dataset_size);\n"
   ]
  },
  {
   "cell_type": "code",
   "execution_count": null,
   "metadata": {
    "colab": {},
    "colab_type": "code",
    "id": "8auDlMNlgB_p"
   },
   "outputs": [],
   "source": [
    "dataset_size =  dataset_spikes.__len__() if dataset_spikes.__len__() < dataset_noise.__len__() else  dataset_noise.__len__()"
   ]
  },
  {
   "cell_type": "code",
   "execution_count": null,
   "metadata": {
    "colab": {},
    "colab_type": "code",
    "id": "bJuNzrOLBgog"
   },
   "outputs": [],
   "source": [
    "# convers to np array\n",
    "np_data_spikes = np.zeros((dataset_size, 1, waveform_length));\n",
    "for i, (data, target) in enumerate(dataset_spikes):\n",
    "  np_data_spikes[i, :] = data.numpy();\n",
    "  if(i + 1 == dataset_size):\n",
    "    break;\n",
    "    \n",
    "del dataset_spikes\n",
    "\n",
    "# removes spikes that have mutiple spikes in waveform\n",
    "spike_argmax = np.argmax(np_data_spikes, 2)\n",
    "over_treshold = waveform_length // 2 + waveform_length // 4\n",
    "under_treshold = waveform_length // 2 - waveform_length // 4\n",
    "is_valid_train_data = ((spike_argmax >= under_treshold) & (spike_argmax <= over_treshold)).ravel()\n",
    "np_data_spikes = np_data_spikes[is_valid_train_data, :, :]\n",
    "dataset_size = np_data_spikes.shape[0]\n",
    "np_classes_spikes = np.ones(dataset_size)\n",
    "\n",
    "\n",
    "np_data_noise = np.zeros((dataset_size, 1, waveform_length));\n",
    "np_classes_noise = np.zeros(dataset_size)\n",
    "for i, (data, target) in enumerate(dataset_noise):\n",
    "  np_data_noise[i, :] = data.numpy();\n",
    "  if(i + 1 == dataset_size):\n",
    "    break;\n",
    "    \n",
    "del dataset_noise\n",
    "\n",
    "    \n"
   ]
  },
  {
   "cell_type": "code",
   "execution_count": null,
   "metadata": {
    "colab": {
     "base_uri": "https://localhost:8080/",
     "height": 34
    },
    "colab_type": "code",
    "id": "b2EZl1lN_JMy",
    "outputId": "f3dccc1d-be6b-4216-fecc-4d853a814578"
   },
   "outputs": [],
   "source": [
    "np_data_noise.shape"
   ]
  },
  {
   "cell_type": "code",
   "execution_count": null,
   "metadata": {
    "colab": {},
    "colab_type": "code",
    "id": "dMbWDqN6ixGF"
   },
   "outputs": [],
   "source": [
    "dataset = np.concatenate((np_data_spikes, np_data_noise), 0);"
   ]
  },
  {
   "cell_type": "code",
   "execution_count": null,
   "metadata": {
    "colab": {},
    "colab_type": "code",
    "id": "nk18-eSVkDpl"
   },
   "outputs": [],
   "source": [
    "labels = np.concatenate((np_classes_spikes, np_classes_noise), 0); "
   ]
  },
  {
   "cell_type": "code",
   "execution_count": null,
   "metadata": {
    "colab": {},
    "colab_type": "code",
    "id": "5UvvNYbJ_wnq"
   },
   "outputs": [],
   "source": [
    "np.save(path_to_train_data, dataset)\n",
    "np.save(path_to_train_labels, labels)\n"
   ]
  },
  {
   "cell_type": "code",
   "execution_count": null,
   "metadata": {
    "colab": {
     "base_uri": "https://localhost:8080/",
     "height": 51
    },
    "colab_type": "code",
    "id": "6UVvA-ndpdyb",
    "outputId": "f8e7d31c-64ff-461d-f4b7-d5ea4be0ac04"
   },
   "outputs": [],
   "source": [
    "mean = (np.mean(np_data_spikes))\n",
    "std = (np.std(np_data_spikes))\n",
    "np.save(path_to_mean_std, [mean, std])\n",
    "\n",
    "print(mean)\n",
    "print(std)"
   ]
  },
  {
   "cell_type": "code",
   "execution_count": null,
   "metadata": {
    "colab": {
     "base_uri": "https://localhost:8080/",
     "height": 364
    },
    "colab_type": "code",
    "id": "bqiWa8XRGmuy",
    "outputId": "8d3c7d12-2ca4-48ab-fe01-2f5dada84ca9"
   },
   "outputs": [],
   "source": [
    "import matplotlib.pyplot as plt\n",
    "rnd = np.random.randint(0, dataset_size);\n",
    "plt.plot(np_data_spikes[rnd, 0, :])\n",
    "np.argmax(np_data_spikes[rnd, 0, :])"
   ]
  }
 ],
 "metadata": {
  "accelerator": "GPU",
  "colab": {
   "collapsed_sections": [],
   "name": "dataset_generation",
   "provenance": [],
   "version": "0.3.2"
  },
  "kernelspec": {
   "display_name": "Python 3",
   "language": "python",
   "name": "python3"
  },
  "language_info": {
   "codemirror_mode": {
    "name": "ipython",
    "version": 3
   },
   "file_extension": ".py",
   "mimetype": "text/x-python",
   "name": "python",
   "nbconvert_exporter": "python",
   "pygments_lexer": "ipython3",
   "version": "3.5.2"
  }
 },
 "nbformat": 4,
 "nbformat_minor": 1
}
