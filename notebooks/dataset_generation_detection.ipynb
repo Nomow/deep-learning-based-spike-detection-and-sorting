{
 "cells": [
  {
   "cell_type": "code",
   "execution_count": 1,
   "metadata": {
    "colab": {},
    "colab_type": "code",
    "id": "clu5BF1zDFN-",
    "scrolled": true
   },
   "outputs": [],
   "source": [
    "from pathlib import Path\n",
    "from os.path import expanduser\n",
    "from os import path\n",
    "import numpy as np\n",
    "import sys\n",
    "import matplotlib.pyplot as plt\n",
    "import torch\n",
    "import torch.nn as nn\n",
    "import torch.nn.functional as F\n",
    "import torch.optim as optim\n",
    "from torchvision import models\n",
    "from torchsummary import summary\n",
    "from torch.utils.data import Dataset, DataLoader\n",
    "from torchvision import transforms, datasets\n",
    "import os"
   ]
  },
  {
   "cell_type": "code",
   "execution_count": 2,
   "metadata": {
    "colab": {},
    "colab_type": "code",
    "id": "jlPnVtlON44_"
   },
   "outputs": [],
   "source": [
    "max_dataset_size = 5000000;\n",
    "waveform_length = 72;\n",
    "nb_of_elements = 30000;\n",
    "device = torch.device(\"cuda:0\" if torch.cuda.is_available() else \"cpu\")\n",
    "nb_of_datasets = 5;\n",
    "snr_from = 20;\n",
    "snr_to = 100;\n",
    "max_shift = waveform_length  // 4 # +- shift\n",
    "use_horizontal_flip = True;\n",
    "use_vertical_flip = False;\n",
    "filter_type = 'high';\n",
    "sampling_rate = 24000;\n",
    "passband = np.array([100], dtype=int);\n",
    "order = 1;\n"
   ]
  },
  {
   "cell_type": "code",
   "execution_count": 3,
   "metadata": {
    "colab": {},
    "colab_type": "code",
    "id": "OiHVHHCmDfwx"
   },
   "outputs": [],
   "source": [
    "root_folder = os.path.dirname(os.getcwd())\n",
    "path_to_recordings = path.join(root_folder,'data/synthesized');\n",
    "path_to_ground_truth_data = path.join(root_folder,'data/synthesized');\n",
    "path_to_train_data = path.join(root_folder,'data/train_data.npy');\n",
    "path_to_train_labels = path.join(root_folder,'data/train_labels.npy');\n",
    "path_to_noise_data = path.join(root_folder,'data/noise_data.npy');\n",
    "path_to_mean_std = path.join(root_folder,'data/mean_std.npy');\n",
    "sys.path.append(root_folder)\n",
    "from custom_resnet import CustomResnet as cnn\n",
    "transform_list =[cnn.FilterSignalUsingButtersWorth(filter_type, sampling_rate, passband, order), cnn.OptimizedZScoreNormalizaton()];\n",
    "\n",
    "  "
   ]
  },
  {
   "cell_type": "code",
   "execution_count": null,
   "metadata": {
    "colab": {},
    "colab_type": "code",
    "id": "Theeks7CF5vN",
    "scrolled": true
   },
   "outputs": [
    {
     "name": "stdout",
     "output_type": "stream",
     "text": [
      "========== 1 generation ==========\n",
      "temp_dataset_len:  0\n",
      "shift_from:  -18\n",
      "shift_to:  19\n",
      "shift_step:  1\n",
      "shift_indexes:  tensor([-18, -17, -16, -15, -14, -13, -12, -11, -10,  -9,  -8,  -7,  -6,  -5,\n",
      "         -4,  -3,  -2,  -1,   0,   1,   2,   3,   4,   5,   6,   7,   8,   9,\n",
      "         10,  11,  12,  13,  14,  15,  16,  17,  18], dtype=torch.int32)\n",
      "snr_ratio:  59.20295199155965\n",
      "flip_data_horz:  0\n",
      "[ 0.98707844 -0.98707844] [ 1.         -0.97415687]\n",
      "[<custom_resnet.CustomResnet.Awgn object at 0x7fe1c3506630>, <custom_resnet.CustomResnet.FilterSignalUsingButtersWorth object at 0x7fe1d33bf3c8>, <custom_resnet.CustomResnet.OptimizedZScoreNormalizaton object at 0x7fe1d33bf438>]\n"
     ]
    },
    {
     "name": "stderr",
     "output_type": "stream",
     "text": [
      "/home/vtpc/Documents/Alvils/spike-sorting/custom_resnet/CustomResnet.py:292: UserWarning: To copy construct from a tensor, it is recommended to use sourceTensor.clone().detach() or sourceTensor.clone().detach().requires_grad_(True), rather than tensor.new_tensor(sourceTensor).\n",
      "  temp = temp.new_tensor(data);\n"
     ]
    },
    {
     "name": "stdout",
     "output_type": "stream",
     "text": [
      "dataset len:  444444\n",
      "========== 1 generation ==========\n",
      "temp_dataset_len:  0\n",
      "shift_from:  -18\n",
      "shift_to:  19\n",
      "shift_step:  1\n",
      "shift_indexes:  tensor([-18, -17, -16, -15, -14, -13, -12, -11, -10,  -9,  -8,  -7,  -6,  -5,\n",
      "         -4,  -3,  -2,  -1,   0,   1,   2,   3,   4,   5,   6,   7,   8,   9,\n",
      "         10,  11,  12,  13,  14,  15,  16,  17,  18], dtype=torch.int32)\n",
      "snr_ratio:  63.12879912824271\n",
      "flip_data_horz:  0\n",
      "[ 0.98707844 -0.98707844] [ 1.         -0.97415687]\n",
      "[<custom_resnet.CustomResnet.Awgn object at 0x7fe1c3526550>, <custom_resnet.CustomResnet.FilterSignalUsingButtersWorth object at 0x7fe1d33bf3c8>, <custom_resnet.CustomResnet.OptimizedZScoreNormalizaton object at 0x7fe1d33bf438>]\n"
     ]
    }
   ],
   "source": [
    "dataset_spikes = cnn.SpikeTrainDataset();\n",
    "counter = 1;\n",
    "while (dataset_spikes.__len__() < max_dataset_size):\n",
    "    if (counter > nb_of_datasets):\n",
    "        counter = 1;\n",
    "    single_recording_path = path.join(path_to_recordings, 'data_' + str(counter) + '.npy');\n",
    "    single_recording_ground_truth = path.join(path_to_ground_truth_data, 'gt_' + str(counter) + '.npy');\n",
    "    temp_dataset = cnn.GenerateDataset(single_recording_path, single_recording_ground_truth, waveform_length, 600, snr_from, snr_to, max_shift, use_horizontal_flip, use_vertical_flip, transform_list);\n",
    "    dataset_spikes = torch.utils.data.ConcatDataset((dataset_spikes, temp_dataset));\n",
    "    counter = counter + 1;"
   ]
  },
  {
   "cell_type": "code",
   "execution_count": null,
   "metadata": {
    "colab": {},
    "colab_type": "code",
    "id": "ROEegHVsDDmT"
   },
   "outputs": [],
   "source": [
    "dataset_noise = cnn.SpikeTrainDataset();\n",
    "counter = 1;\n",
    "while (dataset_noise.__len__() < max_dataset_size):\n",
    "    if (counter > nb_of_datasets):\n",
    "        counter = 1;\n",
    "    single_recording_path = path.join(path_to_recordings, 'data_' + str(counter) + '.npy');\n",
    "    single_recording_ground_truth = path.join(path_to_ground_truth_data, 'gt_' + str(counter) + '.npy');\n",
    "    noise_indices = cnn.GetNoiseIndices(single_recording_path, single_recording_ground_truth, waveform_length, nb_of_elements, snr_from, snr_to, max_shift, use_horizontal_flip, use_vertical_flip, transform_list);\n",
    "    noise_class = torch.zeros(1, noise_indices.nelement(), dtype= torch.int);\n",
    "    noise_data = torch.cat((noise_indices, noise_class), 0);\n",
    "    np.save(path_to_noise_data, noise_data.numpy());\n",
    "    temp_dataset = cnn.GenerateDataset(single_recording_path, path_to_noise_data, waveform_length, 10);\n",
    "    dataset_noise = torch.utils.data.ConcatDataset((dataset_noise, temp_dataset));\n",
    "    counter = counter + 1;"
   ]
  },
  {
   "cell_type": "code",
   "execution_count": null,
   "metadata": {
    "colab": {},
    "colab_type": "code",
    "id": "8auDlMNlgB_p"
   },
   "outputs": [],
   "source": [
    "dataset_size =  dataset_spikes.__len__() if dataset_spikes.__len__() < dataset_noise.__len__() else  dataset_noise.__len__()"
   ]
  },
  {
   "cell_type": "code",
   "execution_count": null,
   "metadata": {},
   "outputs": [],
   "source": [
    "# convers to np array\n",
    "np_data_spikes = np.zeros((dataset_size, 1, waveform_length));\n",
    "for i, (data, target) in enumerate(dataset_spikes):\n",
    "  np_data_spikes[i, :] = data.numpy();\n",
    "  if i % 10000 == 0:\n",
    "    print(i);\n",
    "  if(i + 1 == dataset_size):\n",
    "    break;"
   ]
  },
  {
   "cell_type": "code",
   "execution_count": null,
   "metadata": {
    "colab": {},
    "colab_type": "code",
    "id": "bJuNzrOLBgog"
   },
   "outputs": [],
   "source": [
    "sys.setrecursionlimit(30000)\n",
    "#argmax_spikes = np.max(abs(np_data_spikes), axis=2);\n",
    "#valid_spikes = np.where(argmax_spikes >= 4.5)[0].ravel();\n",
    "#np_data_spikes = np_data_spikes[valid_spikes, :, :]\n",
    "\n",
    "# removes spikes that have mutiple spikes in waveform\n",
    "spike_argmax = np.argmax(abs(np_data_spikes), 2)\n",
    "over_treshold = waveform_length // 2 + waveform_length // 4\n",
    "under_treshold = waveform_length // 2 - waveform_length // 4\n",
    "is_valid_train_data = ((spike_argmax >= under_treshold) & (spike_argmax <= over_treshold)).ravel()\n",
    "np_data_spikes = np_data_spikes[is_valid_train_data, :, :]\n",
    "dataset_size = np_data_spikes.shape[0]\n",
    "np_classes_spikes = np.ones(dataset_size)\n",
    "\n",
    "np_data_noise = np.zeros((dataset_size, 1, waveform_length));\n",
    "np_classes_noise = np.zeros(dataset_size)\n",
    "counter = 0;\n",
    "for i, (data, target) in enumerate(dataset_noise):\n",
    "    np_data_noise[counter, :] = data.numpy()\n",
    "    counter = counter + 1;\n",
    "    if i % 10000 == 0:\n",
    "        print(i);\n",
    "    if(i + 1 == dataset_size):\n",
    "        break;\n",
    "    \n",
    "\n",
    "    \n"
   ]
  },
  {
   "cell_type": "code",
   "execution_count": null,
   "metadata": {},
   "outputs": [],
   "source": [
    "np_data_spikes.shape"
   ]
  },
  {
   "cell_type": "code",
   "execution_count": null,
   "metadata": {},
   "outputs": [],
   "source": [
    "print(np_data_spikes[0, :, 0:37])\n",
    "    "
   ]
  },
  {
   "cell_type": "code",
   "execution_count": null,
   "metadata": {
    "colab": {
     "base_uri": "https://localhost:8080/",
     "height": 34
    },
    "colab_type": "code",
    "id": "b2EZl1lN_JMy",
    "outputId": "f3dccc1d-be6b-4216-fecc-4d853a814578"
   },
   "outputs": [],
   "source": [
    "print(np_data_noise.shape)\n",
    "print(np_data_spikes.shape)\n"
   ]
  },
  {
   "cell_type": "code",
   "execution_count": null,
   "metadata": {
    "colab": {},
    "colab_type": "code",
    "id": "dMbWDqN6ixGF"
   },
   "outputs": [],
   "source": [
    "dataset = np.concatenate((np_data_spikes, np_data_noise), 0);"
   ]
  },
  {
   "cell_type": "code",
   "execution_count": null,
   "metadata": {
    "colab": {},
    "colab_type": "code",
    "id": "nk18-eSVkDpl"
   },
   "outputs": [],
   "source": [
    "labels = np.concatenate((np_classes_spikes, np_classes_noise), 0); "
   ]
  },
  {
   "cell_type": "code",
   "execution_count": null,
   "metadata": {
    "colab": {},
    "colab_type": "code",
    "id": "5UvvNYbJ_wnq"
   },
   "outputs": [],
   "source": [
    "np.save(path_to_train_data, dataset)\n",
    "np.save(path_to_train_labels, labels)\n"
   ]
  },
  {
   "cell_type": "code",
   "execution_count": null,
   "metadata": {
    "colab": {
     "base_uri": "https://localhost:8080/",
     "height": 51
    },
    "colab_type": "code",
    "id": "6UVvA-ndpdyb",
    "outputId": "f8e7d31c-64ff-461d-f4b7-d5ea4be0ac04"
   },
   "outputs": [],
   "source": [
    "mean = (np.mean(np_data_spikes))\n",
    "std = (np.std(np_data_spikes))\n",
    "np.save(path_to_mean_std, [mean, std])\n",
    "\n",
    "print(mean)\n",
    "print(std)"
   ]
  },
  {
   "cell_type": "code",
   "execution_count": null,
   "metadata": {
    "colab": {
     "base_uri": "https://localhost:8080/",
     "height": 364
    },
    "colab_type": "code",
    "id": "bqiWa8XRGmuy",
    "outputId": "8d3c7d12-2ca4-48ab-fe01-2f5dada84ca9"
   },
   "outputs": [],
   "source": [
    "import matplotlib.pyplot as plt\n",
    "rnd = np.random.randint(0, np_data_noise.shape[0]);\n",
    "plt.plot(np_data_noise[rnd, 0, :])\n"
   ]
  },
  {
   "cell_type": "code",
   "execution_count": null,
   "metadata": {},
   "outputs": [],
   "source": [
    "argmax_spikes = np.max(abs(np_data_spikes), axis=2)"
   ]
  },
  {
   "cell_type": "code",
   "execution_count": null,
   "metadata": {},
   "outputs": [],
   "source": [
    "np.where(argmax_spikes < 4.5)[0].shape"
   ]
  },
  {
   "cell_type": "code",
   "execution_count": null,
   "metadata": {},
   "outputs": [],
   "source": [
    "argmax_spikes"
   ]
  },
  {
   "cell_type": "code",
   "execution_count": null,
   "metadata": {},
   "outputs": [],
   "source": []
  },
  {
   "cell_type": "code",
   "execution_count": null,
   "metadata": {},
   "outputs": [],
   "source": []
  }
 ],
 "metadata": {
  "accelerator": "GPU",
  "colab": {
   "collapsed_sections": [],
   "name": "dataset_generation",
   "provenance": [],
   "version": "0.3.2"
  },
  "kernelspec": {
   "display_name": "Python 3",
   "language": "python",
   "name": "python3"
  },
  "language_info": {
   "codemirror_mode": {
    "name": "ipython",
    "version": 3
   },
   "file_extension": ".py",
   "mimetype": "text/x-python",
   "name": "python",
   "nbconvert_exporter": "python",
   "pygments_lexer": "ipython3",
   "version": "3.5.2"
  }
 },
 "nbformat": 4,
 "nbformat_minor": 1
}
