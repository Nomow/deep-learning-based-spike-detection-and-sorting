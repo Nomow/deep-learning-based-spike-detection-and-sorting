{
 "cells": [
  {
   "cell_type": "code",
   "execution_count": 1,
   "metadata": {
    "colab": {},
    "colab_type": "code",
    "id": "jj3JT41anGiq"
   },
   "outputs": [],
   "source": [
    "from pathlib import Path\n",
    "from os.path import expanduser\n",
    "from os import path\n",
    "import numpy as np\n",
    "import sys\n",
    "\n",
    "import torch\n",
    "import torch.nn as nn\n",
    "import torch.nn.functional as F\n",
    "import torch.optim as optim\n",
    "from torchvision import models\n",
    "from torchsummary import summary\n",
    "from torchvision import transforms, datasets\n",
    "from torch.optim import lr_scheduler\n",
    "import os"
   ]
  },
  {
   "cell_type": "code",
   "execution_count": 2,
   "metadata": {
    "colab": {},
    "colab_type": "code",
    "id": "cl6iGQvgnGqR"
   },
   "outputs": [],
   "source": [
    "root_folder = os.path.dirname(os.getcwd())\n",
    "path_to_train_data = path.join(root_folder,'data/train_data.npy');\n",
    "path_to_labels = path.join(root_folder,'data/train_labels.npy');\n",
    "path_to_mean_std = path.join(root_folder,'data/mean_std.npy');\n",
    "\n",
    "sys.path.append(root_folder)\n",
    "from custom_resnet import CustomResnet as cnn"
   ]
  },
  {
   "cell_type": "code",
   "execution_count": 3,
   "metadata": {},
   "outputs": [
    {
     "data": {
      "text/plain": [
       "ResNet(\n",
       "  (conv1): Conv1d(1, 64, kernel_size=(3,), stride=(1,), padding=(1,), bias=False)\n",
       "  (bn1): BatchNorm1d(64, eps=1e-05, momentum=0.1, affine=True, track_running_stats=True)\n",
       "  (relu): ReLU(inplace)\n",
       "  (maxpool): MaxPool1d(kernel_size=3, stride=2, padding=1, dilation=1, ceil_mode=False)\n",
       "  (layer1): Sequential(\n",
       "    (0): BasicBlock(\n",
       "      (conv1): Conv1d(64, 64, kernel_size=(3,), stride=(1,), padding=(1,), bias=False)\n",
       "      (bn1): BatchNorm1d(64, eps=1e-05, momentum=0.1, affine=True, track_running_stats=True)\n",
       "      (relu): ReLU(inplace)\n",
       "      (conv2): Conv1d(64, 64, kernel_size=(3,), stride=(1,), padding=(1,), bias=False)\n",
       "      (bn2): BatchNorm1d(64, eps=1e-05, momentum=0.1, affine=True, track_running_stats=True)\n",
       "    )\n",
       "    (1): BasicBlock(\n",
       "      (conv1): Conv1d(64, 64, kernel_size=(3,), stride=(1,), padding=(1,), bias=False)\n",
       "      (bn1): BatchNorm1d(64, eps=1e-05, momentum=0.1, affine=True, track_running_stats=True)\n",
       "      (relu): ReLU(inplace)\n",
       "      (conv2): Conv1d(64, 64, kernel_size=(3,), stride=(1,), padding=(1,), bias=False)\n",
       "      (bn2): BatchNorm1d(64, eps=1e-05, momentum=0.1, affine=True, track_running_stats=True)\n",
       "    )\n",
       "  )\n",
       "  (layer2): Sequential(\n",
       "    (0): BasicBlock(\n",
       "      (conv1): Conv1d(64, 128, kernel_size=(3,), stride=(2,), padding=(1,), bias=False)\n",
       "      (bn1): BatchNorm1d(128, eps=1e-05, momentum=0.1, affine=True, track_running_stats=True)\n",
       "      (relu): ReLU(inplace)\n",
       "      (conv2): Conv1d(128, 128, kernel_size=(3,), stride=(1,), padding=(1,), bias=False)\n",
       "      (bn2): BatchNorm1d(128, eps=1e-05, momentum=0.1, affine=True, track_running_stats=True)\n",
       "      (downsample): Sequential(\n",
       "        (0): Conv1d(64, 128, kernel_size=(1,), stride=(2,), bias=False)\n",
       "        (1): BatchNorm1d(128, eps=1e-05, momentum=0.1, affine=True, track_running_stats=True)\n",
       "      )\n",
       "    )\n",
       "    (1): BasicBlock(\n",
       "      (conv1): Conv1d(128, 128, kernel_size=(3,), stride=(1,), padding=(1,), bias=False)\n",
       "      (bn1): BatchNorm1d(128, eps=1e-05, momentum=0.1, affine=True, track_running_stats=True)\n",
       "      (relu): ReLU(inplace)\n",
       "      (conv2): Conv1d(128, 128, kernel_size=(3,), stride=(1,), padding=(1,), bias=False)\n",
       "      (bn2): BatchNorm1d(128, eps=1e-05, momentum=0.1, affine=True, track_running_stats=True)\n",
       "    )\n",
       "  )\n",
       "  (layer3): Sequential(\n",
       "    (0): BasicBlock(\n",
       "      (conv1): Conv1d(128, 256, kernel_size=(3,), stride=(2,), padding=(1,), bias=False)\n",
       "      (bn1): BatchNorm1d(256, eps=1e-05, momentum=0.1, affine=True, track_running_stats=True)\n",
       "      (relu): ReLU(inplace)\n",
       "      (conv2): Conv1d(256, 256, kernel_size=(3,), stride=(1,), padding=(1,), bias=False)\n",
       "      (bn2): BatchNorm1d(256, eps=1e-05, momentum=0.1, affine=True, track_running_stats=True)\n",
       "      (downsample): Sequential(\n",
       "        (0): Conv1d(128, 256, kernel_size=(1,), stride=(2,), bias=False)\n",
       "        (1): BatchNorm1d(256, eps=1e-05, momentum=0.1, affine=True, track_running_stats=True)\n",
       "      )\n",
       "    )\n",
       "    (1): BasicBlock(\n",
       "      (conv1): Conv1d(256, 256, kernel_size=(3,), stride=(1,), padding=(1,), bias=False)\n",
       "      (bn1): BatchNorm1d(256, eps=1e-05, momentum=0.1, affine=True, track_running_stats=True)\n",
       "      (relu): ReLU(inplace)\n",
       "      (conv2): Conv1d(256, 256, kernel_size=(3,), stride=(1,), padding=(1,), bias=False)\n",
       "      (bn2): BatchNorm1d(256, eps=1e-05, momentum=0.1, affine=True, track_running_stats=True)\n",
       "    )\n",
       "  )\n",
       "  (avgpool): AdaptiveAvgPool1d(output_size=1)\n",
       "  (fc): Sequential(\n",
       "    (0): Dropout(p=0.5)\n",
       "    (1): Linear(in_features=256, out_features=2, bias=True)\n",
       "  )\n",
       ")"
      ]
     },
     "execution_count": 3,
     "metadata": {},
     "output_type": "execute_result"
    }
   ],
   "source": [
    "num_classes = 2;\n",
    "device = torch.device(\"cuda:0\" if torch.cuda.is_available() else \"cpu\")\n",
    "batch_size = 15000;\n",
    "nb_of_epochs = 25;\n",
    "logging_interval = 30\n",
    "dataset_divider = 0.2\n",
    "net = cnn.resnet18(num_classes = num_classes);\n",
    "net.to(device)"
   ]
  },
  {
   "cell_type": "code",
   "execution_count": 4,
   "metadata": {
    "colab": {},
    "colab_type": "code",
    "id": "r2ecTx8VnVvR"
   },
   "outputs": [],
   "source": [
    "data = np.load(path_to_train_data);\n",
    "labels = np.load(path_to_labels);\n",
    "torch_data = torch.tensor(data).float()\n",
    "torch_labels = torch.tensor(labels).int()\n",
    "train_data, test_data = cnn.GenerateTrainAndTestDataset(torch_data, torch_labels, 0.2)\n"
   ]
  },
  {
   "cell_type": "code",
   "execution_count": null,
   "metadata": {
    "colab": {},
    "colab_type": "code",
    "id": "4z7zXCf2Lecc",
    "scrolled": true
   },
   "outputs": [],
   "source": []
  },
  {
   "cell_type": "code",
   "execution_count": null,
   "metadata": {
    "colab": {},
    "colab_type": "code",
    "id": "WV8Qvr8qoxAF"
   },
   "outputs": [],
   "source": [
    "train_loader = torch.utils.data.DataLoader(train_data, batch_size=batch_size, shuffle=True, num_workers=8)\n",
    "test_loader = torch.utils.data.DataLoader(test_data, batch_size=batch_size, shuffle=False, num_workers=8)\n",
    "\n",
    "\n"
   ]
  },
  {
   "cell_type": "code",
   "execution_count": null,
   "metadata": {
    "colab": {
     "base_uri": "https://localhost:8080/",
     "height": 1535
    },
    "colab_type": "code",
    "executionInfo": {
     "elapsed": 31627,
     "status": "error",
     "timestamp": 1554196248806,
     "user": {
      "displayName": "Alvils Stūre",
      "photoUrl": "",
      "userId": "12969208813296147128"
     },
     "user_tz": -120
    },
    "id": "sPq8IU4ouNmg",
    "outputId": "24430116-834f-433a-f4e3-75cd392a2663",
    "scrolled": false
   },
   "outputs": [
    {
     "name": "stdout",
     "output_type": "stream",
     "text": [
      "Train Epoch: 0 [0/3123216 (0%)]\tLoss: 0.75387650728225708008\n",
      "Train Epoch: 0 [450000/3123216 (14%)]\tLoss: 0.40694278478622436523\n",
      "Train Epoch: 0 [900000/3123216 (29%)]\tLoss: 0.31756922602653503418\n",
      "Train Epoch: 0 [1350000/3123216 (43%)]\tLoss: 0.27621817588806152344\n",
      "Train Epoch: 0 [1800000/3123216 (57%)]\tLoss: 0.24960252642631530762\n",
      "Train Epoch: 0 [2250000/3123216 (72%)]\tLoss: 0.23507517576217651367\n",
      "Train Epoch: 0 [2700000/3123216 (86%)]\tLoss: 0.21694186329841613770\n",
      "\n",
      "Test set: Average loss: 0.00001236405023519183, Accuracy: 726494/780804 (93.04434915804733918776%)\n",
      "\n",
      "Train Epoch: 1 [0/3123216 (0%)]\tLoss: 0.20736353099346160889\n",
      "Train Epoch: 1 [450000/3123216 (14%)]\tLoss: 0.19254496693611145020\n",
      "Train Epoch: 1 [900000/3123216 (29%)]\tLoss: 0.18259948492050170898\n",
      "Train Epoch: 1 [1350000/3123216 (43%)]\tLoss: 0.16963393986225128174\n",
      "Train Epoch: 1 [1800000/3123216 (57%)]\tLoss: 0.16061569750308990479\n",
      "Train Epoch: 1 [2250000/3123216 (72%)]\tLoss: 0.16019913554191589355\n",
      "Train Epoch: 1 [2700000/3123216 (86%)]\tLoss: 0.15432831645011901855\n",
      "\n",
      "Test set: Average loss: 0.00000927987912291428, Accuracy: 740004/780804 (94.77461693331488845615%)\n",
      "\n",
      "Train Epoch: 2 [0/3123216 (0%)]\tLoss: 0.15063762664794921875\n",
      "Train Epoch: 2 [450000/3123216 (14%)]\tLoss: 0.15343600511550903320\n",
      "Train Epoch: 2 [900000/3123216 (29%)]\tLoss: 0.14206324517726898193\n",
      "Train Epoch: 2 [1350000/3123216 (43%)]\tLoss: 0.13861346244812011719\n",
      "Train Epoch: 2 [1800000/3123216 (57%)]\tLoss: 0.13405153155326843262\n",
      "Train Epoch: 2 [2250000/3123216 (72%)]\tLoss: 0.13223722577095031738\n",
      "Train Epoch: 2 [2700000/3123216 (86%)]\tLoss: 0.12833361327648162842\n",
      "\n",
      "Test set: Average loss: 0.00000812664438853972, Accuracy: 745618/780804 (95.49361939744160565624%)\n",
      "\n",
      "Train Epoch: 3 [0/3123216 (0%)]\tLoss: 0.12970831990242004395\n",
      "Train Epoch: 3 [450000/3123216 (14%)]\tLoss: 0.13016057014465332031\n",
      "Train Epoch: 3 [900000/3123216 (29%)]\tLoss: 0.12509939074516296387\n",
      "Train Epoch: 3 [1350000/3123216 (43%)]\tLoss: 0.12198319286108016968\n",
      "Train Epoch: 3 [1800000/3123216 (57%)]\tLoss: 0.12630344927310943604\n",
      "Train Epoch: 3 [2250000/3123216 (72%)]\tLoss: 0.12317811697721481323\n",
      "Train Epoch: 3 [2700000/3123216 (86%)]\tLoss: 0.12168477475643157959\n",
      "\n",
      "Test set: Average loss: 0.00000751582001612405, Accuracy: 748702/780804 (95.88859688218809651516%)\n",
      "\n",
      "Train Epoch: 4 [0/3123216 (0%)]\tLoss: 0.11396589130163192749\n",
      "Train Epoch: 4 [450000/3123216 (14%)]\tLoss: 0.12599380314350128174\n",
      "Train Epoch: 4 [900000/3123216 (29%)]\tLoss: 0.11988857388496398926\n",
      "Train Epoch: 4 [1350000/3123216 (43%)]\tLoss: 0.11545953154563903809\n",
      "Train Epoch: 4 [1800000/3123216 (57%)]\tLoss: 0.11318926513195037842\n",
      "Train Epoch: 4 [2250000/3123216 (72%)]\tLoss: 0.11143910884857177734\n",
      "Train Epoch: 4 [2700000/3123216 (86%)]\tLoss: 0.11471568048000335693\n",
      "\n",
      "Test set: Average loss: 0.00000713724557499518, Accuracy: 750518/780804 (96.12117765790134171766%)\n",
      "\n",
      "Train Epoch: 5 [0/3123216 (0%)]\tLoss: 0.10997727513313293457\n",
      "Train Epoch: 5 [450000/3123216 (14%)]\tLoss: 0.11216542869806289673\n",
      "Train Epoch: 5 [900000/3123216 (29%)]\tLoss: 0.11713628470897674561\n",
      "Train Epoch: 5 [1350000/3123216 (43%)]\tLoss: 0.11895409226417541504\n",
      "Train Epoch: 5 [1800000/3123216 (57%)]\tLoss: 0.11646397411823272705\n",
      "Train Epoch: 5 [2250000/3123216 (72%)]\tLoss: 0.12171310186386108398\n",
      "Train Epoch: 5 [2700000/3123216 (86%)]\tLoss: 0.11372597515583038330\n",
      "\n",
      "Test set: Average loss: 0.00000710444146534428, Accuracy: 750527/780804 (96.12233031593075338606%)\n",
      "\n",
      "Train Epoch: 6 [0/3123216 (0%)]\tLoss: 0.11259183287620544434\n",
      "Train Epoch: 6 [450000/3123216 (14%)]\tLoss: 0.11653354018926620483\n",
      "Train Epoch: 6 [900000/3123216 (29%)]\tLoss: 0.11661580204963684082\n",
      "Train Epoch: 6 [1350000/3123216 (43%)]\tLoss: 0.11438594013452529907\n",
      "Train Epoch: 6 [1800000/3123216 (57%)]\tLoss: 0.10759574174880981445\n",
      "Train Epoch: 6 [2250000/3123216 (72%)]\tLoss: 0.10996498167514801025\n",
      "Train Epoch: 6 [2700000/3123216 (86%)]\tLoss: 0.10751515626907348633\n"
     ]
    }
   ],
   "source": [
    "criterion = nn.CrossEntropyLoss()\n",
    "optimizer = optim.SGD(net.parameters(), lr=0.001, momentum=0.9)\n",
    "exp_lr_scheduler = lr_scheduler.StepLR(optimizer, step_size=5, gamma=0.1)\n",
    "for i in range(nb_of_epochs):  # loop over the dataset multiple times\n",
    "  loss = cnn.Train(net, device, train_loader, optimizer, criterion, exp_lr_scheduler, i, logging_interval)\n",
    "  model_name = 'models/resnet18_num_classes_' + str(num_classes) + \"_epoch_\" + str(i) + '.pt';\n",
    "  path_to_model = path.join(root_folder, model_name)\n",
    "  torch.save({'epoch': i,'model_state_dict': net.state_dict(), 'optimizer_state_dict': optimizer.state_dict(), 'loss': loss,}, path_to_model)\n",
    "  cnn.Test(net, device, criterion, test_loader)"
   ]
  },
  {
   "cell_type": "code",
   "execution_count": null,
   "metadata": {},
   "outputs": [],
   "source": [
    "cnn.Test(net, device, criterion, test_loader)"
   ]
  }
 ],
 "metadata": {
  "accelerator": "GPU",
  "colab": {
   "collapsed_sections": [],
   "name": "train.ipynb",
   "provenance": [],
   "version": "0.3.2"
  },
  "kernelspec": {
   "display_name": "Python 3",
   "language": "python",
   "name": "python3"
  },
  "language_info": {
   "codemirror_mode": {
    "name": "ipython",
    "version": 3
   },
   "file_extension": ".py",
   "mimetype": "text/x-python",
   "name": "python",
   "nbconvert_exporter": "python",
   "pygments_lexer": "ipython3",
   "version": "3.5.2"
  }
 },
 "nbformat": 4,
 "nbformat_minor": 1
}
