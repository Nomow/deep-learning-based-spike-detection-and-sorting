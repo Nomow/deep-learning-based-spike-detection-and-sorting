{
 "cells": [
  {
   "cell_type": "code",
   "execution_count": 1,
   "metadata": {
    "colab": {},
    "colab_type": "code",
    "id": "jj3JT41anGiq"
   },
   "outputs": [],
   "source": [
    "from pathlib import Path\n",
    "from os.path import expanduser\n",
    "from os import path\n",
    "import numpy as np\n",
    "import sys\n",
    "\n",
    "import torch\n",
    "import torch.nn as nn\n",
    "import torch.nn.functional as F\n",
    "import torch.optim as optim\n",
    "from torchvision import models\n",
    "from torchsummary import summary\n",
    "from torchvision import transforms, datasets\n",
    "from torch.optim import lr_scheduler\n",
    "import os"
   ]
  },
  {
   "cell_type": "code",
   "execution_count": 2,
   "metadata": {
    "colab": {},
    "colab_type": "code",
    "id": "cl6iGQvgnGqR"
   },
   "outputs": [],
   "source": [
    "root_folder = os.path.dirname(os.getcwd())\n",
    "path_to_train_data = path.join(root_folder,'data/train_data.npy');\n",
    "path_to_labels = path.join(root_folder,'data/train_labels.npy');\n",
    "path_to_mean_std = path.join(root_folder,'data/mean_std.npy');\n",
    "\n",
    "sys.path.append(root_folder)\n",
    "from custom_resnet import CustomResnet as cnn"
   ]
  },
  {
   "cell_type": "code",
   "execution_count": 3,
   "metadata": {},
   "outputs": [
    {
     "data": {
      "text/plain": [
       "ResNet(\n",
       "  (conv1): Conv1d(1, 64, kernel_size=(3,), stride=(1,), padding=(1,), bias=False)\n",
       "  (bn1): BatchNorm1d(64, eps=1e-05, momentum=0.1, affine=True, track_running_stats=True)\n",
       "  (relu): ReLU(inplace)\n",
       "  (maxpool): MaxPool1d(kernel_size=3, stride=2, padding=1, dilation=1, ceil_mode=False)\n",
       "  (layer1): Sequential(\n",
       "    (0): BasicBlock(\n",
       "      (conv1): Conv1d(64, 64, kernel_size=(3,), stride=(1,), padding=(1,), bias=False)\n",
       "      (bn1): BatchNorm1d(64, eps=1e-05, momentum=0.1, affine=True, track_running_stats=True)\n",
       "      (relu): ReLU(inplace)\n",
       "      (conv2): Conv1d(64, 64, kernel_size=(3,), stride=(1,), padding=(1,), bias=False)\n",
       "      (bn2): BatchNorm1d(64, eps=1e-05, momentum=0.1, affine=True, track_running_stats=True)\n",
       "    )\n",
       "    (1): BasicBlock(\n",
       "      (conv1): Conv1d(64, 64, kernel_size=(3,), stride=(1,), padding=(1,), bias=False)\n",
       "      (bn1): BatchNorm1d(64, eps=1e-05, momentum=0.1, affine=True, track_running_stats=True)\n",
       "      (relu): ReLU(inplace)\n",
       "      (conv2): Conv1d(64, 64, kernel_size=(3,), stride=(1,), padding=(1,), bias=False)\n",
       "      (bn2): BatchNorm1d(64, eps=1e-05, momentum=0.1, affine=True, track_running_stats=True)\n",
       "    )\n",
       "  )\n",
       "  (layer2): Sequential(\n",
       "    (0): BasicBlock(\n",
       "      (conv1): Conv1d(64, 128, kernel_size=(3,), stride=(2,), padding=(1,), bias=False)\n",
       "      (bn1): BatchNorm1d(128, eps=1e-05, momentum=0.1, affine=True, track_running_stats=True)\n",
       "      (relu): ReLU(inplace)\n",
       "      (conv2): Conv1d(128, 128, kernel_size=(3,), stride=(1,), padding=(1,), bias=False)\n",
       "      (bn2): BatchNorm1d(128, eps=1e-05, momentum=0.1, affine=True, track_running_stats=True)\n",
       "      (downsample): Sequential(\n",
       "        (0): Conv1d(64, 128, kernel_size=(1,), stride=(2,), bias=False)\n",
       "        (1): BatchNorm1d(128, eps=1e-05, momentum=0.1, affine=True, track_running_stats=True)\n",
       "      )\n",
       "    )\n",
       "    (1): BasicBlock(\n",
       "      (conv1): Conv1d(128, 128, kernel_size=(3,), stride=(1,), padding=(1,), bias=False)\n",
       "      (bn1): BatchNorm1d(128, eps=1e-05, momentum=0.1, affine=True, track_running_stats=True)\n",
       "      (relu): ReLU(inplace)\n",
       "      (conv2): Conv1d(128, 128, kernel_size=(3,), stride=(1,), padding=(1,), bias=False)\n",
       "      (bn2): BatchNorm1d(128, eps=1e-05, momentum=0.1, affine=True, track_running_stats=True)\n",
       "    )\n",
       "  )\n",
       "  (layer3): Sequential(\n",
       "    (0): BasicBlock(\n",
       "      (conv1): Conv1d(128, 256, kernel_size=(3,), stride=(2,), padding=(1,), bias=False)\n",
       "      (bn1): BatchNorm1d(256, eps=1e-05, momentum=0.1, affine=True, track_running_stats=True)\n",
       "      (relu): ReLU(inplace)\n",
       "      (conv2): Conv1d(256, 256, kernel_size=(3,), stride=(1,), padding=(1,), bias=False)\n",
       "      (bn2): BatchNorm1d(256, eps=1e-05, momentum=0.1, affine=True, track_running_stats=True)\n",
       "      (downsample): Sequential(\n",
       "        (0): Conv1d(128, 256, kernel_size=(1,), stride=(2,), bias=False)\n",
       "        (1): BatchNorm1d(256, eps=1e-05, momentum=0.1, affine=True, track_running_stats=True)\n",
       "      )\n",
       "    )\n",
       "    (1): BasicBlock(\n",
       "      (conv1): Conv1d(256, 256, kernel_size=(3,), stride=(1,), padding=(1,), bias=False)\n",
       "      (bn1): BatchNorm1d(256, eps=1e-05, momentum=0.1, affine=True, track_running_stats=True)\n",
       "      (relu): ReLU(inplace)\n",
       "      (conv2): Conv1d(256, 256, kernel_size=(3,), stride=(1,), padding=(1,), bias=False)\n",
       "      (bn2): BatchNorm1d(256, eps=1e-05, momentum=0.1, affine=True, track_running_stats=True)\n",
       "    )\n",
       "  )\n",
       "  (avgpool): AdaptiveAvgPool1d(output_size=1)\n",
       "  (fc): Sequential(\n",
       "    (0): Dropout(p=0.5)\n",
       "    (1): Linear(in_features=256, out_features=2, bias=True)\n",
       "  )\n",
       ")"
      ]
     },
     "execution_count": 3,
     "metadata": {},
     "output_type": "execute_result"
    }
   ],
   "source": [
    "num_classes = 2;\n",
    "device = torch.device(\"cuda:0\" if torch.cuda.is_available() else \"cpu\")\n",
    "batch_size = 15000;\n",
    "nb_of_epochs = 25;\n",
    "logging_interval = 30\n",
    "dataset_divider = 0.2\n",
    "net = cnn.resnet18(num_classes = num_classes);\n",
    "net.to(device)"
   ]
  },
  {
   "cell_type": "code",
   "execution_count": 4,
   "metadata": {
    "colab": {},
    "colab_type": "code",
    "id": "r2ecTx8VnVvR"
   },
   "outputs": [],
   "source": [
    "data = np.load(path_to_train_data);\n",
    "labels = np.load(path_to_labels);\n",
    "torch_data = torch.tensor(data).float()\n",
    "torch_labels = torch.tensor(labels).int()\n",
    "train_data, test_data = cnn.GenerateTrainAndTestDataset(torch_data, torch_labels, 0.2)\n"
   ]
  },
  {
   "cell_type": "code",
   "execution_count": null,
   "metadata": {
    "colab": {},
    "colab_type": "code",
    "id": "4z7zXCf2Lecc",
    "scrolled": true
   },
   "outputs": [],
   "source": []
  },
  {
   "cell_type": "code",
   "execution_count": 5,
   "metadata": {
    "colab": {},
    "colab_type": "code",
    "id": "WV8Qvr8qoxAF"
   },
   "outputs": [],
   "source": [
    "train_loader = torch.utils.data.DataLoader(train_data, batch_size=batch_size, shuffle=True, num_workers=8)\n",
    "test_loader = torch.utils.data.DataLoader(test_data, batch_size=batch_size, shuffle=False, num_workers=8)\n",
    "\n",
    "\n"
   ]
  },
  {
   "cell_type": "code",
   "execution_count": null,
   "metadata": {
    "colab": {
     "base_uri": "https://localhost:8080/",
     "height": 1535
    },
    "colab_type": "code",
    "executionInfo": {
     "elapsed": 31627,
     "status": "error",
     "timestamp": 1554196248806,
     "user": {
      "displayName": "Alvils Stūre",
      "photoUrl": "",
      "userId": "12969208813296147128"
     },
     "user_tz": -120
    },
    "id": "sPq8IU4ouNmg",
    "outputId": "24430116-834f-433a-f4e3-75cd392a2663",
    "scrolled": false
   },
   "outputs": [
    {
     "name": "stdout",
     "output_type": "stream",
     "text": [
      "Train Epoch: 0 [0/3100826 (0%)]\tLoss: 0.50448036193847656250\n",
      "Train Epoch: 0 [450000/3100826 (14%)]\tLoss: 0.30568408966064453125\n",
      "Train Epoch: 0 [900000/3100826 (29%)]\tLoss: 0.19846571981906890869\n",
      "Train Epoch: 0 [1350000/3100826 (43%)]\tLoss: 0.14989276230335235596\n",
      "Train Epoch: 0 [1800000/3100826 (58%)]\tLoss: 0.12462782859802246094\n",
      "Train Epoch: 0 [2250000/3100826 (72%)]\tLoss: 0.10832166671752929688\n",
      "Train Epoch: 0 [2700000/3100826 (87%)]\tLoss: 0.10019866377115249634\n",
      "\n",
      "Test set: Average loss: 0.00000575543526792899, Accuracy: 753723/775206 (97.22873661968560554669%)\n",
      "\n",
      "Train Epoch: 1 [0/3100826 (0%)]\tLoss: 0.09844838827848434448\n",
      "Train Epoch: 1 [450000/3100826 (14%)]\tLoss: 0.09680142253637313843\n",
      "Train Epoch: 1 [900000/3100826 (29%)]\tLoss: 0.09492018818855285645\n",
      "Train Epoch: 1 [1350000/3100826 (43%)]\tLoss: 0.09200423955917358398\n",
      "Train Epoch: 1 [1800000/3100826 (58%)]\tLoss: 0.08385221660137176514\n",
      "Train Epoch: 1 [2250000/3100826 (72%)]\tLoss: 0.08008942008018493652\n",
      "Train Epoch: 1 [2700000/3100826 (87%)]\tLoss: 0.08085858076810836792\n",
      "\n",
      "Test set: Average loss: 0.00000497840710522723, Accuracy: 756387/775206 (97.57238721062530828476%)\n",
      "\n",
      "Train Epoch: 2 [0/3100826 (0%)]\tLoss: 0.07934012264013290405\n",
      "Train Epoch: 2 [450000/3100826 (14%)]\tLoss: 0.08570155501365661621\n",
      "Train Epoch: 2 [900000/3100826 (29%)]\tLoss: 0.08236625790596008301\n",
      "Train Epoch: 2 [1350000/3100826 (43%)]\tLoss: 0.08529528230428695679\n",
      "Train Epoch: 2 [1800000/3100826 (58%)]\tLoss: 0.08219355344772338867\n",
      "Train Epoch: 2 [2250000/3100826 (72%)]\tLoss: 0.08107688277959823608\n",
      "Train Epoch: 2 [2700000/3100826 (87%)]\tLoss: 0.07840471714735031128\n",
      "\n",
      "Test set: Average loss: 0.00000467396512249252, Accuracy: 757444/775206 (97.70873806446286380378%)\n",
      "\n",
      "Train Epoch: 3 [0/3100826 (0%)]\tLoss: 0.07637879252433776855\n",
      "Train Epoch: 3 [450000/3100826 (14%)]\tLoss: 0.07871047407388687134\n",
      "Train Epoch: 3 [900000/3100826 (29%)]\tLoss: 0.08242386579513549805\n",
      "Train Epoch: 3 [1350000/3100826 (43%)]\tLoss: 0.07338688522577285767\n",
      "Train Epoch: 3 [1800000/3100826 (58%)]\tLoss: 0.07624802738428115845\n",
      "Train Epoch: 3 [2250000/3100826 (72%)]\tLoss: 0.07708025723695755005\n",
      "Train Epoch: 3 [2700000/3100826 (87%)]\tLoss: 0.06989186257123947144\n",
      "\n",
      "Test set: Average loss: 0.00000447562115368783, Accuracy: 758269/775206 (97.81516138935973003754%)\n",
      "\n",
      "Train Epoch: 4 [0/3100826 (0%)]\tLoss: 0.07150374352931976318\n",
      "Train Epoch: 4 [450000/3100826 (14%)]\tLoss: 0.06752049177885055542\n",
      "Train Epoch: 4 [900000/3100826 (29%)]\tLoss: 0.07154871523380279541\n",
      "Train Epoch: 4 [1350000/3100826 (43%)]\tLoss: 0.07022850960493087769\n",
      "Train Epoch: 4 [1800000/3100826 (58%)]\tLoss: 0.06714016199111938477\n",
      "Train Epoch: 4 [2250000/3100826 (72%)]\tLoss: 0.07479161769151687622\n",
      "Train Epoch: 4 [2700000/3100826 (87%)]\tLoss: 0.07113487273454666138\n",
      "\n",
      "Test set: Average loss: 0.00000431734451922239, Accuracy: 758951/775206 (97.90313800460781124002%)\n",
      "\n",
      "Train Epoch: 5 [0/3100826 (0%)]\tLoss: 0.07018921524286270142\n",
      "Train Epoch: 5 [450000/3100826 (14%)]\tLoss: 0.07166767865419387817\n",
      "Train Epoch: 5 [900000/3100826 (29%)]\tLoss: 0.06866748631000518799\n",
      "Train Epoch: 5 [1350000/3100826 (43%)]\tLoss: 0.07029716670513153076\n",
      "Train Epoch: 5 [1800000/3100826 (58%)]\tLoss: 0.07139255106449127197\n",
      "Train Epoch: 5 [2250000/3100826 (72%)]\tLoss: 0.07397038489580154419\n",
      "Train Epoch: 5 [2700000/3100826 (87%)]\tLoss: 0.07283576577901840210\n",
      "\n",
      "Test set: Average loss: 0.00000430447880717111, Accuracy: 759013/775206 (97.91113587872126799994%)\n",
      "\n",
      "Train Epoch: 6 [0/3100826 (0%)]\tLoss: 0.06567237526178359985\n",
      "Train Epoch: 6 [450000/3100826 (14%)]\tLoss: 0.07421552389860153198\n",
      "Train Epoch: 6 [900000/3100826 (29%)]\tLoss: 0.06749106943607330322\n",
      "Train Epoch: 6 [1350000/3100826 (43%)]\tLoss: 0.07541746646165847778\n",
      "Train Epoch: 6 [1800000/3100826 (58%)]\tLoss: 0.07245897501707077026\n",
      "Train Epoch: 6 [2250000/3100826 (72%)]\tLoss: 0.07921324670314788818\n",
      "Train Epoch: 6 [2700000/3100826 (87%)]\tLoss: 0.06914850324392318726\n",
      "\n",
      "Test set: Average loss: 0.00000429067722507170, Accuracy: 759055/775206 (97.91655379344328480329%)\n",
      "\n",
      "Train Epoch: 7 [0/3100826 (0%)]\tLoss: 0.07048376649618148804\n",
      "Train Epoch: 7 [450000/3100826 (14%)]\tLoss: 0.07222720235586166382\n",
      "Train Epoch: 7 [900000/3100826 (29%)]\tLoss: 0.06842069327831268311\n",
      "Train Epoch: 7 [1350000/3100826 (43%)]\tLoss: 0.06669733673334121704\n",
      "Train Epoch: 7 [1800000/3100826 (58%)]\tLoss: 0.06979055702686309814\n",
      "Train Epoch: 7 [2250000/3100826 (72%)]\tLoss: 0.06913646310567855835\n",
      "Train Epoch: 7 [2700000/3100826 (87%)]\tLoss: 0.07089103013277053833\n",
      "\n",
      "Test set: Average loss: 0.00000427571558248019, Accuracy: 759148/775206 (97.92855060461347704859%)\n",
      "\n",
      "Train Epoch: 8 [0/3100826 (0%)]\tLoss: 0.07359334826469421387\n",
      "Train Epoch: 8 [450000/3100826 (14%)]\tLoss: 0.06973648816347122192\n",
      "Train Epoch: 8 [900000/3100826 (29%)]\tLoss: 0.06914487481117248535\n"
     ]
    }
   ],
   "source": [
    "criterion = nn.CrossEntropyLoss()\n",
    "optimizer = optim.SGD(net.parameters(), lr=0.001, momentum=0.9)\n",
    "exp_lr_scheduler = lr_scheduler.StepLR(optimizer, step_size=5, gamma=0.1)\n",
    "for i in range(nb_of_epochs):  # loop over the dataset multiple times\n",
    "  loss = cnn.Train(net, device, train_loader, optimizer, criterion, exp_lr_scheduler, i, logging_interval)\n",
    "  model_name = 'models/resnet18_num_classes_' + str(num_classes) + \"_epoch_\" + str(i) + '.pt';\n",
    "  path_to_model = path.join(root_folder, model_name)\n",
    "  torch.save({'epoch': i,'model_state_dict': net.state_dict(), 'optimizer_state_dict': optimizer.state_dict(), 'loss': loss,}, path_to_model)\n",
    "  cnn.Test(net, device, criterion, test_loader)"
   ]
  },
  {
   "cell_type": "code",
   "execution_count": null,
   "metadata": {},
   "outputs": [],
   "source": [
    "cnn.Test(net, device, criterion, test_loader)"
   ]
  }
 ],
 "metadata": {
  "accelerator": "GPU",
  "colab": {
   "collapsed_sections": [],
   "name": "train.ipynb",
   "provenance": [],
   "version": "0.3.2"
  },
  "kernelspec": {
   "display_name": "Python 3",
   "language": "python",
   "name": "python3"
  },
  "language_info": {
   "codemirror_mode": {
    "name": "ipython",
    "version": 3
   },
   "file_extension": ".py",
   "mimetype": "text/x-python",
   "name": "python",
   "nbconvert_exporter": "python",
   "pygments_lexer": "ipython3",
   "version": "3.5.2"
  }
 },
 "nbformat": 4,
 "nbformat_minor": 1
}
