{
 "cells": [
  {
   "cell_type": "code",
   "execution_count": 1,
   "metadata": {
    "colab": {},
    "colab_type": "code",
    "id": "jj3JT41anGiq"
   },
   "outputs": [],
   "source": [
    "from pathlib import Path\n",
    "from os.path import expanduser\n",
    "from os import path\n",
    "import numpy as np\n",
    "import sys\n",
    "\n",
    "import torch\n",
    "import torch.nn as nn\n",
    "import torch.nn.functional as F\n",
    "import torch.optim as optim\n",
    "from torchvision import models\n",
    "from torchsummary import summary\n",
    "from torchvision import transforms, datasets\n",
    "from torch.optim import lr_scheduler\n",
    "import os"
   ]
  },
  {
   "cell_type": "code",
   "execution_count": 2,
   "metadata": {
    "colab": {},
    "colab_type": "code",
    "id": "cl6iGQvgnGqR"
   },
   "outputs": [],
   "source": [
    "root_folder = os.path.dirname(os.getcwd())\n",
    "path_to_train_data = path.join(root_folder,'data/train_data.npy');\n",
    "path_to_labels = path.join(root_folder,'data/train_labels.npy');\n",
    "path_to_mean_std = path.join(root_folder,'data/mean_std.npy');\n",
    "\n",
    "sys.path.append(root_folder)\n",
    "from custom_resnet import CustomResnet as cnn"
   ]
  },
  {
   "cell_type": "code",
   "execution_count": 3,
   "metadata": {},
   "outputs": [
    {
     "data": {
      "text/plain": [
       "ResNet(\n",
       "  (conv1): Conv1d(1, 64, kernel_size=(3,), stride=(1,), padding=(1,), bias=False)\n",
       "  (bn1): BatchNorm1d(64, eps=1e-05, momentum=0.1, affine=True, track_running_stats=True)\n",
       "  (relu): ReLU(inplace)\n",
       "  (maxpool): MaxPool1d(kernel_size=3, stride=2, padding=1, dilation=1, ceil_mode=False)\n",
       "  (layer1): Sequential(\n",
       "    (0): BasicBlock(\n",
       "      (conv1): Conv1d(64, 64, kernel_size=(3,), stride=(1,), padding=(1,), bias=False)\n",
       "      (bn1): BatchNorm1d(64, eps=1e-05, momentum=0.1, affine=True, track_running_stats=True)\n",
       "      (relu): ReLU(inplace)\n",
       "      (conv2): Conv1d(64, 64, kernel_size=(3,), stride=(1,), padding=(1,), bias=False)\n",
       "      (bn2): BatchNorm1d(64, eps=1e-05, momentum=0.1, affine=True, track_running_stats=True)\n",
       "    )\n",
       "    (1): BasicBlock(\n",
       "      (conv1): Conv1d(64, 64, kernel_size=(3,), stride=(1,), padding=(1,), bias=False)\n",
       "      (bn1): BatchNorm1d(64, eps=1e-05, momentum=0.1, affine=True, track_running_stats=True)\n",
       "      (relu): ReLU(inplace)\n",
       "      (conv2): Conv1d(64, 64, kernel_size=(3,), stride=(1,), padding=(1,), bias=False)\n",
       "      (bn2): BatchNorm1d(64, eps=1e-05, momentum=0.1, affine=True, track_running_stats=True)\n",
       "    )\n",
       "  )\n",
       "  (layer2): Sequential(\n",
       "    (0): BasicBlock(\n",
       "      (conv1): Conv1d(64, 128, kernel_size=(3,), stride=(2,), padding=(1,), bias=False)\n",
       "      (bn1): BatchNorm1d(128, eps=1e-05, momentum=0.1, affine=True, track_running_stats=True)\n",
       "      (relu): ReLU(inplace)\n",
       "      (conv2): Conv1d(128, 128, kernel_size=(3,), stride=(1,), padding=(1,), bias=False)\n",
       "      (bn2): BatchNorm1d(128, eps=1e-05, momentum=0.1, affine=True, track_running_stats=True)\n",
       "      (downsample): Sequential(\n",
       "        (0): Conv1d(64, 128, kernel_size=(1,), stride=(2,), bias=False)\n",
       "        (1): BatchNorm1d(128, eps=1e-05, momentum=0.1, affine=True, track_running_stats=True)\n",
       "      )\n",
       "    )\n",
       "    (1): BasicBlock(\n",
       "      (conv1): Conv1d(128, 128, kernel_size=(3,), stride=(1,), padding=(1,), bias=False)\n",
       "      (bn1): BatchNorm1d(128, eps=1e-05, momentum=0.1, affine=True, track_running_stats=True)\n",
       "      (relu): ReLU(inplace)\n",
       "      (conv2): Conv1d(128, 128, kernel_size=(3,), stride=(1,), padding=(1,), bias=False)\n",
       "      (bn2): BatchNorm1d(128, eps=1e-05, momentum=0.1, affine=True, track_running_stats=True)\n",
       "    )\n",
       "  )\n",
       "  (layer3): Sequential(\n",
       "    (0): BasicBlock(\n",
       "      (conv1): Conv1d(128, 256, kernel_size=(3,), stride=(2,), padding=(1,), bias=False)\n",
       "      (bn1): BatchNorm1d(256, eps=1e-05, momentum=0.1, affine=True, track_running_stats=True)\n",
       "      (relu): ReLU(inplace)\n",
       "      (conv2): Conv1d(256, 256, kernel_size=(3,), stride=(1,), padding=(1,), bias=False)\n",
       "      (bn2): BatchNorm1d(256, eps=1e-05, momentum=0.1, affine=True, track_running_stats=True)\n",
       "      (downsample): Sequential(\n",
       "        (0): Conv1d(128, 256, kernel_size=(1,), stride=(2,), bias=False)\n",
       "        (1): BatchNorm1d(256, eps=1e-05, momentum=0.1, affine=True, track_running_stats=True)\n",
       "      )\n",
       "    )\n",
       "    (1): BasicBlock(\n",
       "      (conv1): Conv1d(256, 256, kernel_size=(3,), stride=(1,), padding=(1,), bias=False)\n",
       "      (bn1): BatchNorm1d(256, eps=1e-05, momentum=0.1, affine=True, track_running_stats=True)\n",
       "      (relu): ReLU(inplace)\n",
       "      (conv2): Conv1d(256, 256, kernel_size=(3,), stride=(1,), padding=(1,), bias=False)\n",
       "      (bn2): BatchNorm1d(256, eps=1e-05, momentum=0.1, affine=True, track_running_stats=True)\n",
       "    )\n",
       "  )\n",
       "  (avgpool): AdaptiveAvgPool1d(output_size=1)\n",
       "  (fc): Sequential(\n",
       "    (0): Dropout(p=0.5)\n",
       "    (1): Linear(in_features=256, out_features=2, bias=True)\n",
       "  )\n",
       ")"
      ]
     },
     "execution_count": 3,
     "metadata": {},
     "output_type": "execute_result"
    }
   ],
   "source": [
    "num_classes = 2;\n",
    "device = torch.device(\"cuda:0\" if torch.cuda.is_available() else \"cpu\")\n",
    "batch_size = 15000;\n",
    "nb_of_epochs = 25;\n",
    "logging_interval = 30\n",
    "dataset_divider = 0.2\n",
    "net = cnn.resnet18(num_classes = num_classes);\n",
    "net.to(device)"
   ]
  },
  {
   "cell_type": "code",
   "execution_count": 4,
   "metadata": {
    "colab": {},
    "colab_type": "code",
    "id": "r2ecTx8VnVvR"
   },
   "outputs": [],
   "source": [
    "data = np.load(path_to_train_data);\n",
    "labels = np.load(path_to_labels);\n",
    "torch_data = torch.tensor(data).float()\n",
    "torch_labels = torch.tensor(labels).int()\n",
    "train_data, test_data = cnn.GenerateTrainAndTestDataset(torch_data, torch_labels, 0.2)\n"
   ]
  },
  {
   "cell_type": "code",
   "execution_count": null,
   "metadata": {
    "colab": {},
    "colab_type": "code",
    "id": "4z7zXCf2Lecc",
    "scrolled": true
   },
   "outputs": [],
   "source": []
  },
  {
   "cell_type": "code",
   "execution_count": null,
   "metadata": {
    "colab": {},
    "colab_type": "code",
    "id": "WV8Qvr8qoxAF"
   },
   "outputs": [],
   "source": [
    "train_loader = torch.utils.data.DataLoader(train_data, batch_size=batch_size, shuffle=True, num_workers=8)\n",
    "test_loader = torch.utils.data.DataLoader(test_data, batch_size=batch_size, shuffle=False, num_workers=8)\n",
    "\n",
    "\n"
   ]
  },
  {
   "cell_type": "code",
   "execution_count": null,
   "metadata": {
    "colab": {
     "base_uri": "https://localhost:8080/",
     "height": 1535
    },
    "colab_type": "code",
    "executionInfo": {
     "elapsed": 31627,
     "status": "error",
     "timestamp": 1554196248806,
     "user": {
      "displayName": "Alvils Stūre",
      "photoUrl": "",
      "userId": "12969208813296147128"
     },
     "user_tz": -120
    },
    "id": "sPq8IU4ouNmg",
    "outputId": "24430116-834f-433a-f4e3-75cd392a2663",
    "scrolled": false
   },
   "outputs": [
    {
     "name": "stdout",
     "output_type": "stream",
     "text": [
      "Train Epoch: 0 [0/8253036 (0%)]\tLoss: 0.93213093280792236328\n",
      "Train Epoch: 0 [450000/8253036 (5%)]\tLoss: 0.34230783581733703613\n",
      "Train Epoch: 0 [900000/8253036 (11%)]\tLoss: 0.31959944963455200195\n",
      "Train Epoch: 0 [1350000/8253036 (16%)]\tLoss: 0.28918713331222534180\n",
      "Train Epoch: 0 [1800000/8253036 (22%)]\tLoss: 0.27630218863487243652\n",
      "Train Epoch: 0 [2250000/8253036 (27%)]\tLoss: 0.26670745015144348145\n",
      "Train Epoch: 0 [2700000/8253036 (33%)]\tLoss: 0.24307914078235626221\n",
      "Train Epoch: 0 [3150000/8253036 (38%)]\tLoss: 0.22194321453571319580\n",
      "Train Epoch: 0 [3600000/8253036 (44%)]\tLoss: 0.20323227345943450928\n",
      "Train Epoch: 0 [4050000/8253036 (49%)]\tLoss: 0.18232451379299163818\n",
      "Train Epoch: 0 [4500000/8253036 (54%)]\tLoss: 0.16253517568111419678\n",
      "Train Epoch: 0 [4950000/8253036 (60%)]\tLoss: 0.14018774032592773438\n",
      "Train Epoch: 0 [5400000/8253036 (65%)]\tLoss: 0.12394334375858306885\n",
      "Train Epoch: 0 [5850000/8253036 (71%)]\tLoss: 0.10839119553565979004\n",
      "Train Epoch: 0 [6300000/8253036 (76%)]\tLoss: 0.09943194687366485596\n",
      "Train Epoch: 0 [6750000/8253036 (82%)]\tLoss: 0.08562242239713668823\n",
      "Train Epoch: 0 [7200000/8253036 (87%)]\tLoss: 0.07672168314456939697\n",
      "Train Epoch: 0 [7650000/8253036 (93%)]\tLoss: 0.07179028540849685669\n",
      "Train Epoch: 0 [8100000/8253036 (98%)]\tLoss: 0.06914024055004119873\n",
      "\n",
      "Test set: Average loss: 0.00000400316730519990, Accuracy: 2023360/2063258 (98.06626219309461589546%)\n",
      "\n",
      "Train Epoch: 1 [0/8253036 (0%)]\tLoss: 0.06762756407260894775\n",
      "Train Epoch: 1 [450000/8253036 (5%)]\tLoss: 0.06476148962974548340\n",
      "Train Epoch: 1 [900000/8253036 (11%)]\tLoss: 0.05944281071424484253\n",
      "Train Epoch: 1 [1350000/8253036 (16%)]\tLoss: 0.05484538525342941284\n",
      "Train Epoch: 1 [1800000/8253036 (22%)]\tLoss: 0.05141642317175865173\n",
      "Train Epoch: 1 [2250000/8253036 (27%)]\tLoss: 0.05270522460341453552\n",
      "Train Epoch: 1 [2700000/8253036 (33%)]\tLoss: 0.05016134679317474365\n",
      "Train Epoch: 1 [3150000/8253036 (38%)]\tLoss: 0.04725176841020584106\n",
      "Train Epoch: 1 [3600000/8253036 (44%)]\tLoss: 0.04907285794615745544\n",
      "Train Epoch: 1 [4050000/8253036 (49%)]\tLoss: 0.04447745531797409058\n",
      "Train Epoch: 1 [4500000/8253036 (54%)]\tLoss: 0.04749356210231781006\n",
      "Train Epoch: 1 [4950000/8253036 (60%)]\tLoss: 0.04533240571618080139\n",
      "Train Epoch: 1 [5400000/8253036 (65%)]\tLoss: 0.04071896150708198547\n",
      "Train Epoch: 1 [5850000/8253036 (71%)]\tLoss: 0.04319203272461891174\n",
      "Train Epoch: 1 [6300000/8253036 (76%)]\tLoss: 0.04262043163180351257\n",
      "Train Epoch: 1 [6750000/8253036 (82%)]\tLoss: 0.04403526708483695984\n",
      "Train Epoch: 1 [7200000/8253036 (87%)]\tLoss: 0.04134396463632583618\n",
      "Train Epoch: 1 [7650000/8253036 (93%)]\tLoss: 0.04073650389909744263\n",
      "Train Epoch: 1 [8100000/8253036 (98%)]\tLoss: 0.04030302166938781738\n",
      "\n",
      "Test set: Average loss: 0.00000245301976065093, Accuracy: 2037225/2063258 (98.73825764882531075273%)\n",
      "\n",
      "Train Epoch: 2 [0/8253036 (0%)]\tLoss: 0.03769402205944061279\n",
      "Train Epoch: 2 [450000/8253036 (5%)]\tLoss: 0.04293486103415489197\n",
      "Train Epoch: 2 [900000/8253036 (11%)]\tLoss: 0.03803167492151260376\n",
      "Train Epoch: 2 [1350000/8253036 (16%)]\tLoss: 0.03861571103334426880\n",
      "Train Epoch: 2 [1800000/8253036 (22%)]\tLoss: 0.03870840370655059814\n"
     ]
    }
   ],
   "source": [
    "criterion = nn.CrossEntropyLoss()\n",
    "optimizer = optim.SGD(net.parameters(), lr=0.001, momentum=0.9)\n",
    "exp_lr_scheduler = lr_scheduler.StepLR(optimizer, step_size=5, gamma=0.1)\n",
    "for i in range(nb_of_epochs):  # loop over the dataset multiple times\n",
    "  loss = cnn.Train(net, device, train_loader, optimizer, criterion, exp_lr_scheduler, i, logging_interval)\n",
    "  model_name = 'models/resnet18_num_classes_' + str(num_classes) + \"_epoch_\" + str(i) + '.pt';\n",
    "  path_to_model = path.join(root_folder, model_name)\n",
    "  torch.save({'epoch': i,'model_state_dict': net.state_dict(), 'optimizer_state_dict': optimizer.state_dict(), 'loss': loss,}, path_to_model)\n",
    "  cnn.Test(net, device, criterion, test_loader)"
   ]
  },
  {
   "cell_type": "code",
   "execution_count": null,
   "metadata": {},
   "outputs": [],
   "source": [
    "cnn.Test(net, device, criterion, test_loader)"
   ]
  }
 ],
 "metadata": {
  "accelerator": "GPU",
  "colab": {
   "collapsed_sections": [],
   "name": "train.ipynb",
   "provenance": [],
   "version": "0.3.2"
  },
  "kernelspec": {
   "display_name": "Python 3",
   "language": "python",
   "name": "python3"
  },
  "language_info": {
   "codemirror_mode": {
    "name": "ipython",
    "version": 3
   },
   "file_extension": ".py",
   "mimetype": "text/x-python",
   "name": "python",
   "nbconvert_exporter": "python",
   "pygments_lexer": "ipython3",
   "version": "3.5.2"
  }
 },
 "nbformat": 4,
 "nbformat_minor": 1
}
