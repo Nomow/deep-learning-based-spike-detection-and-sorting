{
 "cells": [
  {
   "cell_type": "code",
   "execution_count": 1,
   "metadata": {
    "colab": {},
    "colab_type": "code",
    "id": "ryGVws49WiGo"
   },
   "outputs": [],
   "source": [
    "from pathlib import Path\n",
    "from os.path import expanduser\n",
    "from os import path\n",
    "import numpy as np\n",
    "import sys\n",
    "import matplotlib.pyplot as plt\n",
    "import torch\n",
    "import torch.nn as nn\n",
    "import torch.nn.functional as F\n",
    "import torch.optim as optim\n",
    "from torchvision import models\n",
    "from torchsummary import summary\n",
    "from torch.utils.data import Dataset, DataLoader\n",
    "from torchvision import transforms, datasets\n",
    "import os\n"
   ]
  },
  {
   "cell_type": "code",
   "execution_count": 2,
   "metadata": {
    "colab": {},
    "colab_type": "code",
    "id": "ePu-e7SjWdt_"
   },
   "outputs": [],
   "source": [
    "root_folder = os.path.dirname(os.getcwd())\n",
    "path_to_recording= path.join(root_folder,'data/recording_datasets/datasets_single9.npy');\n",
    "path_to_model = path.join(root_folder, 'models/resnet18_num_classes_2_epoch_24.pt')\n",
    "path_to_results = path.join(root_folder, 'data/results/single_recording_gd9.npy')\n",
    "\n",
    "sys.path.append(root_folder)\n",
    "from custom_resnet import CustomResnet as cnn"
   ]
  },
  {
   "cell_type": "code",
   "execution_count": 3,
   "metadata": {
    "colab": {},
    "colab_type": "code",
    "id": "yV5TaTbXZ0EZ"
   },
   "outputs": [],
   "source": [
    "waveform_length = 72;\n",
    "step_size = int(np.round(waveform_length * 0.1))\n",
    "batch_size = 60000;\n",
    "num_classes = 2;\n",
    "device = torch.device(\"cuda:0\" if torch.cuda.is_available() else \"cpu\")\n",
    "model = cnn.resnet18(num_classes=num_classes);\n",
    "checkpoint = torch.load(path_to_model)\n",
    "model.load_state_dict(checkpoint['model_state_dict'])\n",
    "model.to(device);\n"
   ]
  },
  {
   "cell_type": "code",
   "execution_count": null,
   "metadata": {
    "colab": {},
    "colab_type": "code",
    "id": "M1ISyqPybIfA"
   },
   "outputs": [
    {
     "name": "stdout",
     "output_type": "stream",
     "text": [
      "[ 0.98707844 -0.98707844] [ 1.         -0.97415687]\n",
      "started movingmeanandstd\n"
     ]
    }
   ],
   "source": [
    "transform = transforms.Compose([cnn.FilterSignalUsingButtersWorth('high', 24000, np.array([100], dtype=int), 1), cnn.MovingMeanAndStdNormalization(1000)])\n",
    "recording = cnn.Recording(path_to_recording, transform = transform);\n",
    "recording = cnn.AddPaddingToRecording(recording, step_size, waveform_length)\n"
   ]
  },
  {
   "cell_type": "code",
   "execution_count": null,
   "metadata": {},
   "outputs": [],
   "source": [
    "np.mean(recording.data.numpy().ravel())"
   ]
  },
  {
   "cell_type": "code",
   "execution_count": null,
   "metadata": {},
   "outputs": [],
   "source": [
    "np.std(recording.data.numpy().ravel())"
   ]
  },
  {
   "cell_type": "code",
   "execution_count": null,
   "metadata": {
    "colab": {
     "base_uri": "https://localhost:8080/",
     "height": 34
    },
    "colab_type": "code",
    "id": "k8V4ZFbteosZ",
    "outputId": "ad523e6d-963f-4a59-9d77-b43364a5c6d9"
   },
   "outputs": [],
   "source": []
  },
  {
   "cell_type": "code",
   "execution_count": null,
   "metadata": {},
   "outputs": [],
   "source": []
  },
  {
   "cell_type": "code",
   "execution_count": null,
   "metadata": {
    "colab": {},
    "colab_type": "code",
    "id": "6N_R4qANQSVh"
   },
   "outputs": [],
   "source": [
    "waveform_indices = cnn.GetWaveformIndices(recording, step_size, waveform_length)"
   ]
  },
  {
   "cell_type": "code",
   "execution_count": null,
   "metadata": {
    "colab": {},
    "colab_type": "code",
    "id": "KQ1z4-C0HHH2"
   },
   "outputs": [],
   "source": [
    "transform = transforms.Compose([cnn.ExtractWaveforms(waveform_indices, waveform_length)])\n",
    "waveforms = transform(recording.data);\n",
    "\n"
   ]
  },
  {
   "cell_type": "code",
   "execution_count": null,
   "metadata": {
    "colab": {
     "base_uri": "https://localhost:8080/",
     "height": 122
    },
    "colab_type": "code",
    "id": "wPe3Lpbny25l",
    "outputId": "05bf582f-4262-4915-ebd9-f6d4c251d9bc"
   },
   "outputs": [],
   "source": [
    "normalized_waveforms = waveforms;\n",
    "dataset_to_infer = cnn.InferenceDataset(normalized_waveforms.to(device));"
   ]
  },
  {
   "cell_type": "code",
   "execution_count": null,
   "metadata": {
    "colab": {
     "base_uri": "https://localhost:8080/",
     "height": 2958
    },
    "colab_type": "code",
    "id": "AX2Tdh3YIEQ_",
    "outputId": "b9f67fd2-6dd8-4f47-b0d0-60381b94fde8"
   },
   "outputs": [],
   "source": [
    "%pdb off\n",
    "data_loader = torch.utils.data.DataLoader(dataset_to_infer, batch_size=batch_size, shuffle=False, num_workers=0);\n",
    "result = cnn.Inference(model, data_loader, num_classes)"
   ]
  },
  {
   "cell_type": "code",
   "execution_count": null,
   "metadata": {
    "colab": {},
    "colab_type": "code",
    "id": "epc6ksTR2Q9x"
   },
   "outputs": [],
   "source": [
    "soft_max = nn.Softmax(1)\n",
    "probability = soft_max(result)\n",
    "argmax = torch.argmax(probability, 1);\n"
   ]
  },
  {
   "cell_type": "code",
   "execution_count": null,
   "metadata": {
    "colab": {},
    "colab_type": "code",
    "id": "ajhuF_PAPttn"
   },
   "outputs": [],
   "source": [
    "def predictionByTreshold(result, treshold):\n",
    "  soft_max = nn.Softmax(1)\n",
    "  probability = soft_max(result)\n",
    "  prediction = torch.argmax(probability, 1);\n",
    "  for i  in range(prediction.nelement()):\n",
    "    if prediction[i] > 0:\n",
    "      score = probability[i, prediction[i]];\n",
    "      if(score < treshold):\n",
    "        prediction[i] = 0;\n",
    "  return prediction;"
   ]
  },
  {
   "cell_type": "code",
   "execution_count": null,
   "metadata": {
    "colab": {},
    "colab_type": "code",
    "id": "tF_PTUoEQdAz"
   },
   "outputs": [],
   "source": [
    "treshold = 0.9;\n",
    "predictions = predictionByTreshold(result, treshold)"
   ]
  },
  {
   "cell_type": "code",
   "execution_count": null,
   "metadata": {},
   "outputs": [],
   "source": [
    "waveforms[pred_ind, :, :,].shape"
   ]
  },
  {
   "cell_type": "code",
   "execution_count": null,
   "metadata": {},
   "outputs": [],
   "source": [
    "pred_ind = np.where(predictions == 1)[0];\n",
    "waveform_start = waveform_indices[0, pred_ind] - waveform_length // 2;\n",
    "waveform_argmax = np.argmax(abs(waveforms[pred_ind, :, :,]), axis=2);\n",
    "predicted_index = np.unique(waveform_start + waveform_argmax.view(-1).to(torch.int32));"
   ]
  },
  {
   "cell_type": "code",
   "execution_count": null,
   "metadata": {},
   "outputs": [],
   "source": [
    "\n",
    "difference = np.diff(predicted_index);\n",
    "arg_min = np.argmin(difference);\n",
    "val_min = np.min(difference)\n",
    "while (val_min < waveform_length):\n",
    "    isuppr = np.argmin(abs(recording.data[0,predicted_index[arg_min:arg_min+2]]));\n",
    "    predicted_index = np.concatenate( ( predicted_index[:arg_min+isuppr], predicted_index[arg_min+isuppr+1:] ) )\n",
    "    difference = np.diff(predicted_index);\n",
    "    arg_min = np.argmin(difference);\n",
    "    val_min = np.min(difference)\n"
   ]
  },
  {
   "cell_type": "code",
   "execution_count": null,
   "metadata": {
    "colab": {
     "base_uri": "https://localhost:8080/",
     "height": 51
    },
    "colab_type": "code",
    "id": "nUoZ1hFPQqmC",
    "outputId": "5b95a1f2-6ee4-44fb-9bac-caf50a07332d"
   },
   "outputs": [],
   "source": [
    "print(np.where(predictions == 1)[0].shape)\n",
    "print(np.where(predictions == 0)[0].shape)"
   ]
  },
  {
   "cell_type": "code",
   "execution_count": null,
   "metadata": {},
   "outputs": [],
   "source": [
    "predicted_index"
   ]
  },
  {
   "cell_type": "code",
   "execution_count": null,
   "metadata": {
    "colab": {
     "base_uri": "https://localhost:8080/",
     "height": 51
    },
    "colab_type": "code",
    "id": "O93nvnKSMrk2",
    "outputId": "aba71866-5fc5-46ef-9272-5b926eac427a"
   },
   "outputs": [],
   "source": [
    "print(np.where(argmax == 1)[0].shape)\n",
    "print(np.where(argmax == 0)[0].shape)"
   ]
  },
  {
   "cell_type": "code",
   "execution_count": null,
   "metadata": {
    "colab": {},
    "colab_type": "code",
    "id": "C7CS5MNhKHHQ"
   },
   "outputs": [],
   "source": [
    "#for seq in extracted_sequences:\n",
    "#  print(len(seq))"
   ]
  },
  {
   "cell_type": "code",
   "execution_count": null,
   "metadata": {
    "colab": {},
    "colab_type": "code",
    "id": "aBKBpQqUD6XT"
   },
   "outputs": [],
   "source": []
  },
  {
   "cell_type": "code",
   "execution_count": null,
   "metadata": {
    "colab": {
     "base_uri": "https://localhost:8080/",
     "height": 34
    },
    "colab_type": "code",
    "id": "qj5cKZqyALve",
    "outputId": "3f722d04-6b3b-4492-f7bc-580f98379c34"
   },
   "outputs": [],
   "source": [
    "path_to_ground_truth_data = path.join(root_folder,'data/recording_datasets/single_recording_gd9.npy');\n",
    "ground_truth = np.load(path_to_ground_truth_data);\n",
    "neuron_indexes = ground_truth[1, :];\n",
    "spike_positions = ground_truth[0, :];\n",
    "spike_positions = spike_positions.astype(int)\n",
    "\n",
    "spike_positions.shape\n",
    "total = spike_positions.size\n",
    "print(total)\n"
   ]
  },
  {
   "cell_type": "code",
   "execution_count": null,
   "metadata": {
    "colab": {},
    "colab_type": "code",
    "id": "S5OUm7EdXdjC"
   },
   "outputs": [],
   "source": [
    "max_index_unique = predicted_index\n"
   ]
  },
  {
   "cell_type": "code",
   "execution_count": null,
   "metadata": {
    "colab": {
     "base_uri": "https://localhost:8080/",
     "height": 34
    },
    "colab_type": "code",
    "id": "Tcwi1Oody_Jt",
    "outputId": "4337b448-d3ab-4b80-ec57-f38138584405"
   },
   "outputs": [],
   "source": [
    "spike_positions"
   ]
  },
  {
   "cell_type": "code",
   "execution_count": null,
   "metadata": {},
   "outputs": [],
   "source": [
    "max_index_unique"
   ]
  },
  {
   "cell_type": "code",
   "execution_count": null,
   "metadata": {},
   "outputs": [],
   "source": [
    "recording1.data[0, 12994 -36: 12994+36]"
   ]
  },
  {
   "cell_type": "code",
   "execution_count": null,
   "metadata": {},
   "outputs": [],
   "source": [
    "rnd = np.random.randint(0, max_index_unique.size)\n",
    "plt.plot(recording.data[0, max_index_unique[rnd] -36: max_index_unique[rnd]+36].numpy().ravel())"
   ]
  },
  {
   "cell_type": "code",
   "execution_count": null,
   "metadata": {
    "colab": {
     "base_uri": "https://localhost:8080/",
     "height": 51
    },
    "colab_type": "code",
    "id": "S7c4SnT4wtEl",
    "outputId": "3b419545-e7c3-49aa-8f58-484fb3186860"
   },
   "outputs": [],
   "source": [
    "print(max_index_unique.shape)\n",
    "np.save(path_to_results, max_index_unique)"
   ]
  },
  {
   "cell_type": "code",
   "execution_count": null,
   "metadata": {
    "colab": {},
    "colab_type": "code",
    "id": "s_A2PqtnAr4V"
   },
   "outputs": [],
   "source": [
    "is_found = np.zeros(max_index_unique.size)\n",
    "for i in range(0, max_index_unique.size):\n",
    "  found = np.where(max_index_unique[i] == spike_positions)\n",
    "  if(len(found[0]) == 0):\n",
    "    is_found[i] = 0\n",
    "  else:\n",
    "    is_found[i] = 1;"
   ]
  },
  {
   "cell_type": "code",
   "execution_count": null,
   "metadata": {
    "colab": {
     "base_uri": "https://localhost:8080/",
     "height": 68
    },
    "colab_type": "code",
    "id": "IQxfsJr5CML-",
    "outputId": "851b20ac-626b-4d0b-db2b-b4487356f523"
   },
   "outputs": [],
   "source": [
    "tp = np.where(is_found == 1)[0].size\n",
    "print(tp)\n",
    "fp = np.where(is_found == 0)[0].size\n",
    "print(fp)\n"
   ]
  },
  {
   "cell_type": "code",
   "execution_count": null,
   "metadata": {
    "colab": {
     "base_uri": "https://localhost:8080/",
     "height": 68
    },
    "colab_type": "code",
    "id": "X9tjePkXoZNt",
    "outputId": "c83a526d-bc2d-4c33-c002-f6d188be5f37"
   },
   "outputs": [],
   "source": [
    "np.std(recording.data[0, :].numpy().ravel())"
   ]
  },
  {
   "cell_type": "code",
   "execution_count": null,
   "metadata": {
    "colab": {
     "base_uri": "https://localhost:8080/",
     "height": 34
    },
    "colab_type": "code",
    "id": "yFMkTdMfoG_p",
    "outputId": "0939ea82-fc77-47f3-9f22-7dd25a0a42c0"
   },
   "outputs": [],
   "source": [
    "tp"
   ]
  },
  {
   "cell_type": "code",
   "execution_count": null,
   "metadata": {
    "colab": {
     "base_uri": "https://localhost:8080/",
     "height": 34
    },
    "colab_type": "code",
    "id": "dkvx5BvOraR5",
    "outputId": "90d178d4-3df3-4052-83ef-073bbabb1b0b"
   },
   "outputs": [],
   "source": [
    "tp / total"
   ]
  },
  {
   "cell_type": "code",
   "execution_count": null,
   "metadata": {},
   "outputs": [],
   "source": [
    "      "
   ]
  },
  {
   "cell_type": "code",
   "execution_count": null,
   "metadata": {},
   "outputs": [],
   "source": [
    "transform1.append(FilterSignalUsingButtersWorth('high', 24000, np.array([100], dtype=int), 1))\n"
   ]
  },
  {
   "cell_type": "raw",
   "metadata": {},
   "source": []
  },
  {
   "cell_type": "code",
   "execution_count": null,
   "metadata": {},
   "outputs": [],
   "source": []
  },
  {
   "cell_type": "code",
   "execution_count": null,
   "metadata": {},
   "outputs": [],
   "source": []
  },
  {
   "cell_type": "code",
   "execution_count": null,
   "metadata": {
    "colab": {},
    "colab_type": "code",
    "id": "-91B5hSunjzw"
   },
   "outputs": [],
   "source": [
    "# tp is spike\n",
    "# fp is noise but predicted as spike\n",
    "# tn is noise\n",
    "# fn is spike but predicted as noise"
   ]
  }
 ],
 "metadata": {
  "accelerator": "GPU",
  "colab": {
   "collapsed_sections": [],
   "name": "detect.ipynb",
   "provenance": [],
   "version": "0.3.2"
  },
  "kernelspec": {
   "display_name": "Python 3",
   "language": "python",
   "name": "python3"
  },
  "language_info": {
   "codemirror_mode": {
    "name": "ipython",
    "version": 3
   },
   "file_extension": ".py",
   "mimetype": "text/x-python",
   "name": "python",
   "nbconvert_exporter": "python",
   "pygments_lexer": "ipython3",
   "version": "3.5.2"
  }
 },
 "nbformat": 4,
 "nbformat_minor": 1
}
