{
 "cells": [
  {
   "cell_type": "code",
   "execution_count": 5,
   "metadata": {
    "colab": {},
    "colab_type": "code",
    "id": "ryGVws49WiGo"
   },
   "outputs": [],
   "source": [
    "from pathlib import Path\n",
    "from os.path import expanduser\n",
    "from os import path\n",
    "import numpy as np\n",
    "import sys\n",
    "import matplotlib.pyplot as plt\n",
    "import torch\n",
    "import torch.nn as nn\n",
    "import torch.nn.functional as F\n",
    "import torch.optim as optim\n",
    "from torchvision import models\n",
    "from torchsummary import summary\n",
    "from torch.utils.data import Dataset, DataLoader\n",
    "from torchvision import transforms, datasets\n",
    "import os\n"
   ]
  },
  {
   "cell_type": "code",
   "execution_count": 6,
   "metadata": {
    "colab": {},
    "colab_type": "code",
    "id": "ePu-e7SjWdt_"
   },
   "outputs": [],
   "source": [
    "root_folder = os.path.dirname(os.getcwd())\n",
    "path_to_recording= path.join(root_folder,'data/synthesized/data_55.npy');\n",
    "path_to_model = path.join(root_folder, 'models/detect/resnet18_num_classes_2_epoch_24.pt')\n",
    "path_to_results = path.join(root_folder, 'data/results/eeg_ground_truth_dataset2.npy')\n",
    "path_to_ground_truth_data = path.join(root_folder,'data/synthesized/gt_55.npy');\n",
    "\n",
    "sys.path.append(root_folder)\n",
    "from custom_resnet import CustomResnet as cnn"
   ]
  },
  {
   "cell_type": "code",
   "execution_count": 7,
   "metadata": {
    "colab": {},
    "colab_type": "code",
    "id": "yV5TaTbXZ0EZ"
   },
   "outputs": [],
   "source": [
    "waveform_length = 72;\n",
    "step_size = int(np.round(waveform_length * 0.1))\n",
    "\n"
   ]
  },
  {
   "cell_type": "code",
   "execution_count": 8,
   "metadata": {},
   "outputs": [],
   "source": [
    "batch_size = 15000;\n",
    "num_classes = 2;\n",
    "device = torch.device(\"cuda:0\" if torch.cuda.is_available() else \"cpu\")\n",
    "model = cnn.resnet18(num_classes=num_classes);\n",
    "checkpoint = torch.load(path_to_model)\n",
    "model.load_state_dict(checkpoint['model_state_dict'])\n",
    "model.to(device);"
   ]
  },
  {
   "cell_type": "code",
   "execution_count": 9,
   "metadata": {
    "colab": {},
    "colab_type": "code",
    "id": "M1ISyqPybIfA",
    "scrolled": true
   },
   "outputs": [
    {
     "name": "stdout",
     "output_type": "stream",
     "text": [
      "[ 0.98707844 -0.98707844] [ 1.         -0.97415687]\n"
     ]
    }
   ],
   "source": [
    "transform = transforms.Compose([cnn.FilterSignalUsingButtersWorth('high', 24000, np.array([100], dtype=int), 1), cnn.OptimizedZScoreNormalizaton()])\n",
    "recording = cnn.Recording(path_to_recording, transform = transform);\n",
    "recording = cnn.AddPaddingToRecording(recording, step_size, waveform_length)\n"
   ]
  },
  {
   "cell_type": "code",
   "execution_count": null,
   "metadata": {},
   "outputs": [],
   "source": []
  },
  {
   "cell_type": "code",
   "execution_count": null,
   "metadata": {},
   "outputs": [],
   "source": [
    "\n"
   ]
  },
  {
   "cell_type": "code",
   "execution_count": null,
   "metadata": {
    "colab": {
     "base_uri": "https://localhost:8080/",
     "height": 34
    },
    "colab_type": "code",
    "id": "k8V4ZFbteosZ",
    "outputId": "ad523e6d-963f-4a59-9d77-b43364a5c6d9"
   },
   "outputs": [],
   "source": []
  },
  {
   "cell_type": "code",
   "execution_count": null,
   "metadata": {},
   "outputs": [],
   "source": []
  },
  {
   "cell_type": "code",
   "execution_count": 10,
   "metadata": {
    "colab": {},
    "colab_type": "code",
    "id": "6N_R4qANQSVh"
   },
   "outputs": [],
   "source": [
    "waveform_indices = cnn.GetWaveformIndices(recording, step_size, waveform_length)"
   ]
  },
  {
   "cell_type": "code",
   "execution_count": 11,
   "metadata": {
    "colab": {},
    "colab_type": "code",
    "id": "KQ1z4-C0HHH2"
   },
   "outputs": [],
   "source": [
    "transform = transforms.Compose([cnn.ExtractWaveforms(waveform_indices, waveform_length)])\n",
    "waveforms = transform(recording.data);\n",
    "\n"
   ]
  },
  {
   "cell_type": "code",
   "execution_count": 12,
   "metadata": {
    "colab": {
     "base_uri": "https://localhost:8080/",
     "height": 122
    },
    "colab_type": "code",
    "id": "wPe3Lpbny25l",
    "outputId": "05bf582f-4262-4915-ebd9-f6d4c251d9bc",
    "scrolled": true
   },
   "outputs": [
    {
     "name": "stdout",
     "output_type": "stream",
     "text": [
      "torch.cuda.FloatTensor\n"
     ]
    }
   ],
   "source": [
    "normalized_waveforms = waveforms;\n",
    "dataset_to_infer = cnn.InferenceDataset(normalized_waveforms.to(device));"
   ]
  },
  {
   "cell_type": "code",
   "execution_count": 13,
   "metadata": {
    "colab": {
     "base_uri": "https://localhost:8080/",
     "height": 2958
    },
    "colab_type": "code",
    "id": "AX2Tdh3YIEQ_",
    "outputId": "b9f67fd2-6dd8-4f47-b0d0-60381b94fde8"
   },
   "outputs": [
    {
     "name": "stdout",
     "output_type": "stream",
     "text": [
      "Automatic pdb calling has been turned OFF\n",
      "done:  0  batch\n",
      "done:  1  batch\n",
      "done:  2  batch\n",
      "done:  3  batch\n",
      "done:  4  batch\n",
      "done:  5  batch\n",
      "done:  6  batch\n",
      "done:  7  batch\n",
      "done:  8  batch\n",
      "done:  9  batch\n",
      "done:  10  batch\n",
      "done:  11  batch\n",
      "done:  12  batch\n",
      "done:  13  batch\n",
      "done:  14  batch\n",
      "done:  15  batch\n",
      "done:  16  batch\n",
      "done:  17  batch\n",
      "done:  18  batch\n",
      "done:  19  batch\n",
      "done:  20  batch\n",
      "done:  21  batch\n",
      "done:  22  batch\n",
      "done:  23  batch\n",
      "done:  24  batch\n",
      "done:  25  batch\n",
      "done:  26  batch\n",
      "done:  27  batch\n",
      "done:  28  batch\n",
      "done:  29  batch\n",
      "done:  30  batch\n",
      "done:  31  batch\n",
      "done:  32  batch\n",
      "done:  33  batch\n",
      "done:  34  batch\n",
      "done:  35  batch\n",
      "done:  36  batch\n",
      "done:  37  batch\n",
      "done:  38  batch\n",
      "done:  39  batch\n",
      "done:  40  batch\n",
      "done:  41  batch\n",
      "done:  42  batch\n",
      "done:  43  batch\n",
      "done:  44  batch\n",
      "done:  45  batch\n",
      "done:  46  batch\n",
      "done:  47  batch\n",
      "done:  48  batch\n",
      "done:  49  batch\n",
      "done:  50  batch\n",
      "done:  51  batch\n",
      "done:  52  batch\n",
      "done:  53  batch\n",
      "done:  54  batch\n",
      "done:  55  batch\n",
      "done:  56  batch\n",
      "done:  57  batch\n",
      "done:  58  batch\n",
      "done:  59  batch\n",
      "done:  60  batch\n",
      "done:  61  batch\n",
      "done:  62  batch\n",
      "done:  63  batch\n",
      "done:  64  batch\n",
      "done:  65  batch\n",
      "done:  66  batch\n",
      "done:  67  batch\n",
      "done:  68  batch\n",
      "done:  69  batch\n",
      "done:  70  batch\n",
      "done:  71  batch\n",
      "done:  72  batch\n",
      "done:  73  batch\n",
      "done:  74  batch\n",
      "done:  75  batch\n",
      "done:  76  batch\n",
      "done:  77  batch\n",
      "done:  78  batch\n",
      "done:  79  batch\n",
      "done:  80  batch\n",
      "done:  81  batch\n",
      "done:  82  batch\n",
      "done:  83  batch\n",
      "done:  84  batch\n",
      "done:  85  batch\n",
      "done:  86  batch\n",
      "done:  87  batch\n",
      "done:  88  batch\n",
      "done:  89  batch\n",
      "done:  90  batch\n",
      "done:  91  batch\n",
      "done:  92  batch\n",
      "done:  93  batch\n",
      "done:  94  batch\n",
      "done:  95  batch\n",
      "done:  96  batch\n",
      "done:  97  batch\n",
      "done:  98  batch\n",
      "done:  99  batch\n",
      "done:  100  batch\n",
      "done:  101  batch\n",
      "done:  102  batch\n",
      "done:  103  batch\n",
      "done:  104  batch\n",
      "done:  105  batch\n",
      "done:  106  batch\n",
      "done:  107  batch\n",
      "done:  108  batch\n",
      "done:  109  batch\n",
      "done:  110  batch\n",
      "done:  111  batch\n",
      "done:  112  batch\n",
      "done:  113  batch\n",
      "done:  114  batch\n",
      "done:  115  batch\n",
      "done:  116  batch\n",
      "done:  117  batch\n",
      "done:  118  batch\n",
      "done:  119  batch\n",
      "done:  120  batch\n",
      "done:  121  batch\n",
      "done:  122  batch\n",
      "done:  123  batch\n",
      "done:  124  batch\n",
      "done:  125  batch\n",
      "done:  126  batch\n",
      "done:  127  batch\n",
      "done:  128  batch\n",
      "done:  129  batch\n",
      "done:  130  batch\n",
      "done:  131  batch\n",
      "done:  132  batch\n",
      "done:  133  batch\n",
      "done:  134  batch\n",
      "done:  135  batch\n",
      "done:  136  batch\n",
      "done:  137  batch\n"
     ]
    }
   ],
   "source": [
    "%pdb off\n",
    "data_loader = torch.utils.data.DataLoader(dataset_to_infer, batch_size=batch_size, shuffle=False, num_workers=0);\n",
    "result = cnn.Inference(model, data_loader, num_classes)"
   ]
  },
  {
   "cell_type": "code",
   "execution_count": null,
   "metadata": {
    "colab": {},
    "colab_type": "code",
    "id": "epc6ksTR2Q9x"
   },
   "outputs": [],
   "source": []
  },
  {
   "cell_type": "code",
   "execution_count": null,
   "metadata": {
    "colab": {},
    "colab_type": "code",
    "id": "ajhuF_PAPttn"
   },
   "outputs": [],
   "source": []
  },
  {
   "cell_type": "code",
   "execution_count": 14,
   "metadata": {
    "colab": {},
    "colab_type": "code",
    "id": "tF_PTUoEQdAz"
   },
   "outputs": [],
   "source": [
    "treshold = 0.9;\n",
    "predictions = cnn.PredictionByTreshold(result, treshold)"
   ]
  },
  {
   "cell_type": "code",
   "execution_count": null,
   "metadata": {},
   "outputs": [],
   "source": []
  },
  {
   "cell_type": "code",
   "execution_count": 13,
   "metadata": {},
   "outputs": [],
   "source": []
  },
  {
   "cell_type": "code",
   "execution_count": 18,
   "metadata": {},
   "outputs": [],
   "source": []
  },
  {
   "cell_type": "code",
   "execution_count": 19,
   "metadata": {},
   "outputs": [],
   "source": [
    "max_amplitude = cnn.GetNonOverlappingSpikesMaxAmplitude(recording, predictions, waveform_length, waveform_indices)\n"
   ]
  },
  {
   "cell_type": "code",
   "execution_count": 20,
   "metadata": {},
   "outputs": [
    {
     "name": "stdout",
     "output_type": "stream",
     "text": [
      "[    1295     2478     3022 ... 14399490 14399731 14399840]\n"
     ]
    }
   ],
   "source": [
    "print(max_amplitude)"
   ]
  },
  {
   "cell_type": "code",
   "execution_count": 21,
   "metadata": {
    "colab": {
     "base_uri": "https://localhost:8080/",
     "height": 34
    },
    "colab_type": "code",
    "id": "qj5cKZqyALve",
    "outputId": "3f722d04-6b3b-4492-f7bc-580f98379c34"
   },
   "outputs": [
    {
     "name": "stdout",
     "output_type": "stream",
     "text": [
      "14115\n"
     ]
    }
   ],
   "source": [
    "ground_truth = np.load(path_to_ground_truth_data);\n",
    "neuron_indexes = ground_truth[1, :];\n",
    "spike_positions = ground_truth[0, :];\n",
    "spike_positions = spike_positions.astype(int)\n",
    "\n",
    "spike_positions.shape\n",
    "total = spike_positions.size\n",
    "print(total)\n"
   ]
  },
  {
   "cell_type": "code",
   "execution_count": null,
   "metadata": {},
   "outputs": [],
   "source": []
  },
  {
   "cell_type": "code",
   "execution_count": 23,
   "metadata": {
    "colab": {},
    "colab_type": "code",
    "id": "S5OUm7EdXdjC"
   },
   "outputs": [],
   "source": [
    "\n",
    "max_index_unique = max_amplitude\n"
   ]
  },
  {
   "cell_type": "code",
   "execution_count": 24,
   "metadata": {
    "colab": {
     "base_uri": "https://localhost:8080/",
     "height": 51
    },
    "colab_type": "code",
    "id": "S7c4SnT4wtEl",
    "outputId": "3b419545-e7c3-49aa-8f58-484fb3186860"
   },
   "outputs": [
    {
     "name": "stdout",
     "output_type": "stream",
     "text": [
      "(14743,)\n"
     ]
    }
   ],
   "source": [
    "print(max_index_unique.shape)\n",
    "np.save(path_to_results, max_index_unique)"
   ]
  },
  {
   "cell_type": "code",
   "execution_count": 25,
   "metadata": {
    "colab": {},
    "colab_type": "code",
    "id": "s_A2PqtnAr4V"
   },
   "outputs": [],
   "source": [
    "is_found = np.zeros(max_index_unique.size)\n",
    "for i in range(0, max_index_unique.size):\n",
    "  found = np.where(max_index_unique[i] == spike_positions)\n",
    "  if(len(found[0]) == 0):\n",
    "    is_found[i] = 0\n",
    "  else:\n",
    "    is_found[i] = 1;"
   ]
  },
  {
   "cell_type": "code",
   "execution_count": 26,
   "metadata": {
    "colab": {
     "base_uri": "https://localhost:8080/",
     "height": 68
    },
    "colab_type": "code",
    "id": "IQxfsJr5CML-",
    "outputId": "851b20ac-626b-4d0b-db2b-b4487356f523",
    "scrolled": true
   },
   "outputs": [
    {
     "name": "stdout",
     "output_type": "stream",
     "text": [
      "13425\n",
      "1318\n"
     ]
    }
   ],
   "source": [
    "tp = np.where(is_found == 1)[0].size\n",
    "print(tp)\n",
    "fp = np.where(is_found == 0)[0].size\n",
    "print(fp)\n"
   ]
  },
  {
   "cell_type": "code",
   "execution_count": 27,
   "metadata": {
    "colab": {
     "base_uri": "https://localhost:8080/",
     "height": 68
    },
    "colab_type": "code",
    "id": "X9tjePkXoZNt",
    "outputId": "c83a526d-bc2d-4c33-c002-f6d188be5f37"
   },
   "outputs": [
    {
     "data": {
      "text/plain": [
       "0.9511158342189161"
      ]
     },
     "execution_count": 27,
     "metadata": {},
     "output_type": "execute_result"
    }
   ],
   "source": [
    "tp / total"
   ]
  },
  {
   "cell_type": "code",
   "execution_count": null,
   "metadata": {},
   "outputs": [],
   "source": [
    "recording1 = cnn.Recording(path_to_recording, transform = transform);\n",
    "transform = transforms.Compose([cnn.Awgn(20), cnn.FilterSignalUsingButtersWorth('high', 24000, np.array([100], dtype=int), 1), cnn.OptimizedZScoreNormalizaton()])\n"
   ]
  },
  {
   "cell_type": "code",
   "execution_count": null,
   "metadata": {},
   "outputs": [
    {
     "name": "stdout",
     "output_type": "stream",
     "text": [
      "1439718\n",
      "1504\n"
     ]
    },
    {
     "data": {
      "text/plain": [
       "[<matplotlib.lines.Line2D at 0x7f5700233518>]"
      ]
     },
     "execution_count": 22,
     "metadata": {},
     "output_type": "execute_result"
    },
    {
     "data": {
      "image/png": "[encoded data removed]",
      "text/plain": [
       "<Figure size 432x288 with 1 Axes>"
      ]
     },
     "metadata": {
      "needs_background": "light"
     },
     "output_type": "display_data"
    }
   ],
   "source": [
    "import matplotlib.pyplot as plt\n",
    "rnd = np.random.randint(spike_positions.size);\n",
    "print(max_index_unique[rnd])\n",
    "print(rnd)\n",
    "plt.plot((recording.data[0, spike_positions[rnd] - 36:spike_positions[rnd]+36]).numpy().ravel())\n",
    "plt.plot((recording1.data[0, spike_positions[rnd] - 36:spike_positions[rnd]+36]).numpy().ravel())"
   ]
  },
  {
   "cell_type": "code",
   "execution_count": null,
   "metadata": {},
   "outputs": [
    {
     "name": "stderr",
     "output_type": "stream",
     "text": [
      "/home/vtpc/.local/lib/python3.5/site-packages/matplotlib/pyplot.py:513: RuntimeWarning: More than 20 figures have been opened. Figures created through the pyplot interface (`matplotlib.pyplot.figure`) are retained until explicitly closed and may consume too much memory. (To control this warning, see the rcParam `figure.max_open_warning`).\n",
      "  max_open_warning, RuntimeWarning)\n"
     ]
    }
   ],
   "source": [
    "for i in range(max_index_unique.size):\n",
    "    plt.figure(i)\n",
    "\n",
    "    plt.plot((recording.data[0, max_index_unique[i] - 36:max_index_unique[i]+36]).numpy().ravel())\n"
   ]
  },
  {
   "cell_type": "markdown",
   "metadata": {},
   "source": [
    "for i in range(max_index_unique.size):\n",
    "    plt.figure(i)\n",
    "    plt.figure(i).suptitle(found[i], fontsize=16)\n",
    "\n",
    "    plt.plot((recording.data[0, max_index_unique[i] - 36:max_index_unique[i]+36]).numpy().ravel())\n"
   ]
  },
  {
   "cell_type": "code",
   "execution_count": null,
   "metadata": {},
   "outputs": [],
   "source": [
    "max_index_unique.size"
   ]
  },
  {
   "cell_type": "code",
   "execution_count": null,
   "metadata": {},
   "outputs": [],
   "source": [
    "is_found = np.zeros(spike_positions.size)\n",
    "\n",
    "for i in range(spike_positions.size):\n",
    "  found = np.where(spike_positions[i] == predicted_index1)\n",
    "  if(len(found[0]) == 0):\n",
    "    is_found[i] = 0\n",
    "  else:\n",
    "    is_found[i] = 1;\n",
    "\n",
    "    \n",
    "    \n",
    "    \n",
    "tp = np.where(is_found == 1)[0].size\n",
    "print(tp)\n",
    "fp = np.where(is_found == 0)[0].size\n",
    "print(fp)\n"
   ]
  },
  {
   "cell_type": "code",
   "execution_count": null,
   "metadata": {},
   "outputs": [],
   "source": [
    "tp / total\n"
   ]
  }
 ],
 "metadata": {
  "accelerator": "GPU",
  "colab": {
   "collapsed_sections": [],
   "name": "detect.ipynb",
   "provenance": [],
   "version": "0.3.2"
  },
  "kernelspec": {
   "display_name": "Python 3",
   "language": "python",
   "name": "python3"
  },
  "language_info": {
   "codemirror_mode": {
    "name": "ipython",
    "version": 3
   },
   "file_extension": ".py",
   "mimetype": "text/x-python",
   "name": "python",
   "nbconvert_exporter": "python",
   "pygments_lexer": "ipython3",
   "version": "3.5.2"
  }
 },
 "nbformat": 4,
 "nbformat_minor": 1
}
