{
 "cells": [
  {
   "cell_type": "code",
   "execution_count": 1,
   "metadata": {
    "colab": {},
    "colab_type": "code",
    "id": "ryGVws49WiGo"
   },
   "outputs": [],
   "source": [
    "from pathlib import Path\n",
    "from os.path import expanduser\n",
    "from os import path\n",
    "import numpy as np\n",
    "import sys\n",
    "import matplotlib.pyplot as plt\n",
    "import torch\n",
    "import torch.nn as nn\n",
    "import torch.nn.functional as F\n",
    "import torch.optim as optim\n",
    "from torchvision import models\n",
    "from torchsummary import summary\n",
    "from torch.utils.data import Dataset, DataLoader\n",
    "from torchvision import transforms, datasets\n",
    "import os\n"
   ]
  },
  {
   "cell_type": "code",
   "execution_count": 48,
   "metadata": {
    "colab": {},
    "colab_type": "code",
    "id": "ePu-e7SjWdt_"
   },
   "outputs": [],
   "source": [
    "root_folder = os.path.dirname(os.getcwd())\n",
    "path_to_recording= path.join(root_folder,'data/recording_datasets/eeg_rec_2_1.npy');\n",
    "path_to_model = path.join(root_folder, 'models/resnet18_num_classes_2_epoch_7.pt')\n",
    "path_to_results = path.join(root_folder, 'data/results/eeg_ground_truth_dataset2.npy')\n",
    "path_to_ground_truth_data = path.join(root_folder,'data/recording_datasets/eeg_ground_truth_dataset2.npy');\n",
    "\n",
    "sys.path.append(root_folder)\n",
    "from custom_resnet import CustomResnet as cnn"
   ]
  },
  {
   "cell_type": "code",
   "execution_count": 49,
   "metadata": {
    "colab": {},
    "colab_type": "code",
    "id": "yV5TaTbXZ0EZ"
   },
   "outputs": [],
   "source": [
    "waveform_length = 72;\n",
    "step_size = int(np.round(waveform_length * 0.1))\n",
    "batch_size = 30000;\n",
    "num_classes = 2;\n",
    "device = torch.device(\"cuda:0\" if torch.cuda.is_available() else \"cpu\")\n",
    "model = cnn.resnet18(num_classes=num_classes);\n",
    "checkpoint = torch.load(path_to_model)\n",
    "model.load_state_dict(checkpoint['model_state_dict'])\n",
    "model.to(device);\n"
   ]
  },
  {
   "cell_type": "code",
   "execution_count": 57,
   "metadata": {
    "colab": {},
    "colab_type": "code",
    "id": "M1ISyqPybIfA",
    "scrolled": true
   },
   "outputs": [
    {
     "name": "stdout",
     "output_type": "stream",
     "text": [
      "[ 0.98707844 -0.98707844] [ 1.         -0.97415687]\n"
     ]
    }
   ],
   "source": [
    "transform = transforms.Compose([cnn.FilterSignalUsingButtersWorth('high', 24000, np.array([100], dtype=int), 1), cnn.MovingMeanAndStdNormalization(1000)])\n",
    "recording = cnn.Recording(path_to_recording, transform = transform);\n",
    "recording = cnn.AddPaddingToRecording(recording, step_size, waveform_length)\n"
   ]
  },
  {
   "cell_type": "code",
   "execution_count": 59,
   "metadata": {},
   "outputs": [
    {
     "name": "stdout",
     "output_type": "stream",
     "text": [
      "started movingmeanandstd\n"
     ]
    }
   ],
   "source": [
    "np.mean(recording.data.numpy().ravel())"
   ]
  },
  {
   "cell_type": "code",
   "execution_count": 60,
   "metadata": {},
   "outputs": [
    {
     "data": {
      "text/plain": [
       "tensor([12.7312, 15.2731, 11.4744,  6.8335,  6.8480, 14.6685, 19.3486, 15.4905,\n",
       "         6.6921])"
      ]
     },
     "execution_count": 60,
     "metadata": {},
     "output_type": "execute_result"
    }
   ],
   "source": [
    "recording[0, 1:10]"
   ]
  },
  {
   "cell_type": "code",
   "execution_count": 62,
   "metadata": {
    "colab": {
     "base_uri": "https://localhost:8080/",
     "height": 34
    },
    "colab_type": "code",
    "id": "k8V4ZFbteosZ",
    "outputId": "ad523e6d-963f-4a59-9d77-b43364a5c6d9"
   },
   "outputs": [
    {
     "data": {
      "text/plain": [
       "tensor([-0.3235,  1.4628,  1.7809,  1.3105,  0.7358,  0.7393,  1.7091,  2.2916,\n",
       "         1.8141,  0.7214])"
      ]
     },
     "execution_count": 62,
     "metadata": {},
     "output_type": "execute_result"
    }
   ],
   "source": [
    "recording1[0, 0:10]"
   ]
  },
  {
   "cell_type": "code",
   "execution_count": 63,
   "metadata": {},
   "outputs": [
    {
     "data": {
      "text/plain": [
       "[<matplotlib.lines.Line2D at 0x7f7524328d30>]"
      ]
     },
     "execution_count": 63,
     "metadata": {},
     "output_type": "execute_result"
    },
    {
     "data": {
      "image/png": "[encoded data removed]",
      "text/plain": [
       "<Figure size 432x288 with 1 Axes>"
      ]
     },
     "metadata": {
      "needs_background": "light"
     },
     "output_type": "display_data"
    }
   ],
   "source": [
    "import matplotlib.pyplot as plt\n",
    "plt.plot(recording1.data.numpy().ravel())"
   ]
  },
  {
   "cell_type": "code",
   "execution_count": 7,
   "metadata": {
    "colab": {},
    "colab_type": "code",
    "id": "6N_R4qANQSVh"
   },
   "outputs": [],
   "source": [
    "waveform_indices = cnn.GetWaveformIndices(recording, step_size, waveform_length)"
   ]
  },
  {
   "cell_type": "code",
   "execution_count": 8,
   "metadata": {
    "colab": {},
    "colab_type": "code",
    "id": "KQ1z4-C0HHH2"
   },
   "outputs": [],
   "source": [
    "transform = transforms.Compose([cnn.ExtractWaveforms(waveform_indices, waveform_length)])\n",
    "waveforms = transform(recording.data);\n",
    "\n"
   ]
  },
  {
   "cell_type": "code",
   "execution_count": 9,
   "metadata": {
    "colab": {
     "base_uri": "https://localhost:8080/",
     "height": 122
    },
    "colab_type": "code",
    "id": "wPe3Lpbny25l",
    "outputId": "05bf582f-4262-4915-ebd9-f6d4c251d9bc"
   },
   "outputs": [
    {
     "name": "stdout",
     "output_type": "stream",
     "text": [
      "torch.cuda.FloatTensor\n"
     ]
    }
   ],
   "source": [
    "normalized_waveforms = waveforms;\n",
    "dataset_to_infer = cnn.InferenceDataset(normalized_waveforms.to(device));"
   ]
  },
  {
   "cell_type": "code",
   "execution_count": 14,
   "metadata": {
    "colab": {
     "base_uri": "https://localhost:8080/",
     "height": 2958
    },
    "colab_type": "code",
    "id": "AX2Tdh3YIEQ_",
    "outputId": "b9f67fd2-6dd8-4f47-b0d0-60381b94fde8"
   },
   "outputs": [
    {
     "name": "stdout",
     "output_type": "stream",
     "text": [
      "Automatic pdb calling has been turned OFF\n",
      "done:  0  batch\n",
      "done:  1  batch\n",
      "done:  2  batch\n",
      "done:  3  batch\n",
      "done:  4  batch\n",
      "done:  5  batch\n",
      "done:  6  batch\n",
      "done:  7  batch\n",
      "done:  8  batch\n",
      "done:  9  batch\n",
      "done:  10  batch\n",
      "done:  11  batch\n",
      "done:  12  batch\n",
      "done:  13  batch\n",
      "done:  14  batch\n",
      "done:  15  batch\n",
      "done:  16  batch\n",
      "done:  17  batch\n",
      "done:  18  batch\n",
      "done:  19  batch\n",
      "done:  20  batch\n",
      "done:  21  batch\n",
      "done:  22  batch\n",
      "done:  23  batch\n",
      "done:  24  batch\n",
      "done:  25  batch\n",
      "done:  26  batch\n",
      "done:  27  batch\n",
      "done:  28  batch\n",
      "done:  29  batch\n",
      "done:  30  batch\n",
      "done:  31  batch\n",
      "done:  32  batch\n",
      "done:  33  batch\n",
      "done:  34  batch\n",
      "done:  35  batch\n",
      "done:  36  batch\n",
      "done:  37  batch\n",
      "done:  38  batch\n",
      "done:  39  batch\n",
      "done:  40  batch\n",
      "done:  41  batch\n",
      "done:  42  batch\n",
      "done:  43  batch\n",
      "done:  44  batch\n",
      "done:  45  batch\n",
      "done:  46  batch\n",
      "done:  47  batch\n",
      "done:  48  batch\n",
      "done:  49  batch\n",
      "done:  50  batch\n",
      "done:  51  batch\n",
      "done:  52  batch\n",
      "done:  53  batch\n",
      "done:  54  batch\n",
      "done:  55  batch\n",
      "done:  56  batch\n",
      "done:  57  batch\n",
      "done:  58  batch\n",
      "done:  59  batch\n",
      "done:  60  batch\n",
      "done:  61  batch\n",
      "done:  62  batch\n",
      "done:  63  batch\n",
      "done:  64  batch\n",
      "done:  65  batch\n",
      "done:  66  batch\n",
      "done:  67  batch\n",
      "done:  68  batch\n",
      "done:  69  batch\n",
      "done:  70  batch\n",
      "done:  71  batch\n",
      "done:  72  batch\n",
      "done:  73  batch\n",
      "done:  74  batch\n",
      "done:  75  batch\n",
      "done:  76  batch\n",
      "done:  77  batch\n",
      "done:  78  batch\n",
      "done:  79  batch\n",
      "done:  80  batch\n",
      "done:  81  batch\n",
      "done:  82  batch\n",
      "done:  83  batch\n",
      "done:  84  batch\n",
      "done:  85  batch\n",
      "done:  86  batch\n",
      "done:  87  batch\n",
      "done:  88  batch\n",
      "done:  89  batch\n",
      "done:  90  batch\n",
      "done:  91  batch\n",
      "done:  92  batch\n",
      "done:  93  batch\n",
      "done:  94  batch\n",
      "done:  95  batch\n",
      "done:  96  batch\n",
      "done:  97  batch\n",
      "done:  98  batch\n",
      "done:  99  batch\n",
      "done:  100  batch\n",
      "done:  101  batch\n",
      "done:  102  batch\n",
      "done:  103  batch\n",
      "done:  104  batch\n",
      "done:  105  batch\n",
      "done:  106  batch\n",
      "done:  107  batch\n",
      "done:  108  batch\n",
      "done:  109  batch\n",
      "done:  110  batch\n",
      "done:  111  batch\n",
      "done:  112  batch\n",
      "done:  113  batch\n",
      "done:  114  batch\n",
      "done:  115  batch\n",
      "done:  116  batch\n",
      "done:  117  batch\n",
      "done:  118  batch\n",
      "done:  119  batch\n",
      "done:  120  batch\n",
      "done:  121  batch\n",
      "done:  122  batch\n",
      "done:  123  batch\n",
      "done:  124  batch\n",
      "done:  125  batch\n",
      "done:  126  batch\n",
      "done:  127  batch\n",
      "done:  128  batch\n",
      "done:  129  batch\n",
      "done:  130  batch\n",
      "done:  131  batch\n",
      "done:  132  batch\n",
      "done:  133  batch\n",
      "done:  134  batch\n",
      "done:  135  batch\n",
      "done:  136  batch\n",
      "done:  137  batch\n",
      "done:  138  batch\n",
      "done:  139  batch\n",
      "done:  140  batch\n",
      "done:  141  batch\n",
      "done:  142  batch\n",
      "done:  143  batch\n",
      "done:  144  batch\n",
      "done:  145  batch\n",
      "done:  146  batch\n",
      "done:  147  batch\n",
      "done:  148  batch\n",
      "done:  149  batch\n",
      "done:  150  batch\n",
      "done:  151  batch\n",
      "done:  152  batch\n",
      "done:  153  batch\n",
      "done:  154  batch\n",
      "done:  155  batch\n",
      "done:  156  batch\n",
      "done:  157  batch\n",
      "done:  158  batch\n",
      "done:  159  batch\n",
      "done:  160  batch\n",
      "done:  161  batch\n",
      "done:  162  batch\n",
      "done:  163  batch\n",
      "done:  164  batch\n",
      "done:  165  batch\n",
      "done:  166  batch\n",
      "done:  167  batch\n",
      "done:  168  batch\n",
      "done:  169  batch\n",
      "done:  170  batch\n",
      "done:  171  batch\n",
      "done:  172  batch\n",
      "done:  173  batch\n",
      "done:  174  batch\n",
      "done:  175  batch\n",
      "done:  176  batch\n",
      "done:  177  batch\n",
      "done:  178  batch\n",
      "done:  179  batch\n",
      "done:  180  batch\n",
      "done:  181  batch\n",
      "done:  182  batch\n",
      "done:  183  batch\n",
      "done:  184  batch\n",
      "done:  185  batch\n",
      "done:  186  batch\n",
      "done:  187  batch\n",
      "done:  188  batch\n",
      "done:  189  batch\n",
      "done:  190  batch\n",
      "done:  191  batch\n",
      "done:  192  batch\n",
      "done:  193  batch\n",
      "done:  194  batch\n",
      "done:  195  batch\n",
      "done:  196  batch\n",
      "done:  197  batch\n",
      "done:  198  batch\n",
      "done:  199  batch\n",
      "done:  200  batch\n",
      "done:  201  batch\n",
      "done:  202  batch\n",
      "done:  203  batch\n",
      "done:  204  batch\n",
      "done:  205  batch\n",
      "done:  206  batch\n",
      "done:  207  batch\n",
      "done:  208  batch\n",
      "done:  209  batch\n",
      "done:  210  batch\n",
      "done:  211  batch\n",
      "done:  212  batch\n",
      "done:  213  batch\n",
      "done:  214  batch\n",
      "done:  215  batch\n",
      "done:  216  batch\n",
      "done:  217  batch\n",
      "done:  218  batch\n",
      "done:  219  batch\n",
      "done:  220  batch\n",
      "done:  221  batch\n",
      "done:  222  batch\n",
      "done:  223  batch\n",
      "done:  224  batch\n",
      "done:  225  batch\n",
      "done:  226  batch\n",
      "done:  227  batch\n",
      "done:  228  batch\n",
      "done:  229  batch\n",
      "done:  230  batch\n",
      "done:  231  batch\n",
      "done:  232  batch\n",
      "done:  233  batch\n",
      "done:  234  batch\n",
      "done:  235  batch\n",
      "done:  236  batch\n",
      "done:  237  batch\n",
      "done:  238  batch\n",
      "done:  239  batch\n",
      "done:  240  batch\n",
      "done:  241  batch\n",
      "done:  242  batch\n",
      "done:  243  batch\n",
      "done:  244  batch\n",
      "done:  245  batch\n",
      "done:  246  batch\n",
      "done:  247  batch\n",
      "done:  248  batch\n",
      "done:  249  batch\n",
      "done:  250  batch\n",
      "done:  251  batch\n",
      "done:  252  batch\n",
      "done:  253  batch\n",
      "done:  254  batch\n",
      "done:  255  batch\n",
      "done:  256  batch\n",
      "done:  257  batch\n",
      "done:  258  batch\n",
      "done:  259  batch\n",
      "done:  260  batch\n",
      "done:  261  batch\n",
      "done:  262  batch\n",
      "done:  263  batch\n",
      "done:  264  batch\n",
      "done:  265  batch\n",
      "done:  266  batch\n",
      "done:  267  batch\n",
      "done:  268  batch\n",
      "done:  269  batch\n",
      "done:  270  batch\n",
      "done:  271  batch\n",
      "done:  272  batch\n",
      "done:  273  batch\n",
      "done:  274  batch\n",
      "done:  275  batch\n",
      "done:  276  batch\n",
      "done:  277  batch\n",
      "done:  278  batch\n",
      "done:  279  batch\n",
      "done:  280  batch\n",
      "done:  281  batch\n",
      "done:  282  batch\n",
      "done:  283  batch\n",
      "done:  284  batch\n",
      "done:  285  batch\n",
      "done:  286  batch\n",
      "done:  287  batch\n",
      "done:  288  batch\n",
      "done:  289  batch\n",
      "done:  290  batch\n",
      "done:  291  batch\n",
      "done:  292  batch\n",
      "done:  293  batch\n",
      "done:  294  batch\n",
      "done:  295  batch\n",
      "done:  296  batch\n",
      "done:  297  batch\n",
      "done:  298  batch\n",
      "done:  299  batch\n",
      "done:  300  batch\n",
      "done:  301  batch\n",
      "done:  302  batch\n",
      "done:  303  batch\n",
      "done:  304  batch\n",
      "done:  305  batch\n",
      "done:  306  batch\n",
      "done:  307  batch\n",
      "done:  308  batch\n",
      "done:  309  batch\n",
      "done:  310  batch\n",
      "done:  311  batch\n",
      "done:  312  batch\n",
      "done:  313  batch\n",
      "done:  314  batch\n",
      "done:  315  batch\n",
      "done:  316  batch\n",
      "done:  317  batch\n",
      "done:  318  batch\n",
      "done:  319  batch\n",
      "done:  320  batch\n",
      "done:  321  batch\n",
      "done:  322  batch\n",
      "done:  323  batch\n",
      "done:  324  batch\n",
      "done:  325  batch\n",
      "done:  326  batch\n",
      "done:  327  batch\n",
      "done:  328  batch\n",
      "done:  329  batch\n",
      "done:  330  batch\n",
      "done:  331  batch\n",
      "done:  332  batch\n",
      "done:  333  batch\n",
      "done:  334  batch\n",
      "done:  335  batch\n",
      "done:  336  batch\n",
      "done:  337  batch\n",
      "done:  338  batch\n",
      "done:  339  batch\n",
      "done:  340  batch\n",
      "done:  341  batch\n",
      "done:  342  batch\n",
      "done:  343  batch\n",
      "done:  344  batch\n",
      "done:  345  batch\n",
      "done:  346  batch\n",
      "done:  347  batch\n",
      "done:  348  batch\n",
      "done:  349  batch\n",
      "done:  350  batch\n",
      "done:  351  batch\n",
      "done:  352  batch\n",
      "done:  353  batch\n",
      "done:  354  batch\n",
      "done:  355  batch\n",
      "done:  356  batch\n",
      "done:  357  batch\n",
      "done:  358  batch\n",
      "done:  359  batch\n",
      "done:  360  batch\n",
      "done:  361  batch\n",
      "done:  362  batch\n",
      "done:  363  batch\n",
      "done:  364  batch\n",
      "done:  365  batch\n",
      "done:  366  batch\n",
      "done:  367  batch\n",
      "done:  368  batch\n",
      "done:  369  batch\n",
      "done:  370  batch\n",
      "done:  371  batch\n",
      "done:  372  batch\n",
      "done:  373  batch\n",
      "done:  374  batch\n",
      "done:  375  batch\n",
      "done:  376  batch\n",
      "done:  377  batch\n",
      "done:  378  batch\n",
      "done:  379  batch\n",
      "done:  380  batch\n",
      "done:  381  batch\n",
      "done:  382  batch\n",
      "done:  383  batch\n",
      "done:  384  batch\n",
      "done:  385  batch\n",
      "done:  386  batch\n",
      "done:  387  batch\n",
      "done:  388  batch\n",
      "done:  389  batch\n",
      "done:  390  batch\n",
      "done:  391  batch\n",
      "done:  392  batch\n",
      "done:  393  batch\n",
      "done:  394  batch\n",
      "done:  395  batch\n",
      "done:  396  batch\n",
      "done:  397  batch\n"
     ]
    }
   ],
   "source": [
    "%pdb off\n",
    "data_loader = torch.utils.data.DataLoader(dataset_to_infer, batch_size=batch_size, shuffle=False, num_workers=0);\n",
    "result = cnn.Inference(model, data_loader, num_classes)"
   ]
  },
  {
   "cell_type": "code",
   "execution_count": 15,
   "metadata": {
    "colab": {},
    "colab_type": "code",
    "id": "epc6ksTR2Q9x"
   },
   "outputs": [],
   "source": [
    "soft_max = nn.Softmax(1)\n",
    "probability = soft_max(result)\n",
    "argmax = torch.argmax(probability, 1);\n"
   ]
  },
  {
   "cell_type": "code",
   "execution_count": 16,
   "metadata": {
    "colab": {},
    "colab_type": "code",
    "id": "ajhuF_PAPttn"
   },
   "outputs": [],
   "source": [
    "def predictionByTreshold(result, treshold):\n",
    "  soft_max = nn.Softmax(1)\n",
    "  probability = soft_max(result)\n",
    "  prediction = torch.argmax(probability, 1);\n",
    "  for i  in range(prediction.nelement()):\n",
    "    if prediction[i] > 0:\n",
    "      score = probability[i, prediction[i]];\n",
    "      if(score < treshold):\n",
    "        prediction[i] = 0;\n",
    "  return prediction;"
   ]
  },
  {
   "cell_type": "code",
   "execution_count": 17,
   "metadata": {
    "colab": {},
    "colab_type": "code",
    "id": "tF_PTUoEQdAz"
   },
   "outputs": [],
   "source": [
    "treshold = 0.9;\n",
    "predictions = predictionByTreshold(result, treshold)"
   ]
  },
  {
   "cell_type": "code",
   "execution_count": null,
   "metadata": {},
   "outputs": [],
   "source": []
  },
  {
   "cell_type": "code",
   "execution_count": 18,
   "metadata": {},
   "outputs": [],
   "source": [
    "pred_ind = np.where(predictions == 1)[0];\n",
    "waveform_start = waveform_indices[0, pred_ind] - waveform_length // 2;\n",
    "waveform_argmax = np.argmax(abs(waveforms[pred_ind, :, :,]), axis=2);\n",
    "predicted_index = np.unique(waveform_start + waveform_argmax.view(-1).to(torch.int32));"
   ]
  },
  {
   "cell_type": "code",
   "execution_count": 19,
   "metadata": {},
   "outputs": [],
   "source": [
    "\n",
    "difference = np.diff(predicted_index);\n",
    "arg_min = np.argmin(difference);\n",
    "val_min = np.min(difference)\n",
    "while (val_min < waveform_length):\n",
    "    isuppr = np.argmin(abs(recording.data[0,predicted_index[arg_min:arg_min+2]]));\n",
    "    predicted_index = np.concatenate( ( predicted_index[:arg_min+isuppr], predicted_index[arg_min+isuppr+1:] ) )\n",
    "    difference = np.diff(predicted_index);\n",
    "    arg_min = np.argmin(difference);\n",
    "    val_min = np.min(difference)\n"
   ]
  },
  {
   "cell_type": "code",
   "execution_count": 20,
   "metadata": {
    "colab": {
     "base_uri": "https://localhost:8080/",
     "height": 51
    },
    "colab_type": "code",
    "id": "nUoZ1hFPQqmC",
    "outputId": "5b95a1f2-6ee4-44fb-9bac-caf50a07332d"
   },
   "outputs": [
    {
     "name": "stdout",
     "output_type": "stream",
     "text": [
      "(70984,)\n",
      "(11856316,)\n"
     ]
    }
   ],
   "source": [
    "print(np.where(predictions == 1)[0].shape)\n",
    "print(np.where(predictions == 0)[0].shape)"
   ]
  },
  {
   "cell_type": "code",
   "execution_count": 76,
   "metadata": {},
   "outputs": [
    {
     "data": {
      "text/plain": [
       "array([  46636,   52325,   54444,   94785,  121395,  130033,  134765,\n",
       "        141357,  142715,  143940,  145876,  146754,  166343,  167094,\n",
       "        167641,  192796,  193612,  197844,  200695,  215664,  235214,\n",
       "        238131,  246145,  246915,  247824,  272585,  273712,  274735,\n",
       "        290706,  294457,  302834,  314598,  323142,  325115,  326524,\n",
       "        345387,  346414,  352315,  399589,  458771,  488018,  508381,\n",
       "        530798,  536740,  537308,  539031,  545836,  556746,  559418,\n",
       "        591554,  605715,  608309,  610405,  610495,  638826,  641446,\n",
       "        643625,  645621,  662466,  663695,  664686,  698435,  699079,\n",
       "        699673,  701245,  701885,  702679,  735263,  736250,  737587,\n",
       "        751715,  775548,  776919,  777958,  779605,  780929,  781396,\n",
       "        800390,  802333,  802542,  819254,  822608,  824366,  827228,\n",
       "        828730,  829241,  830941,  850540,  884280,  890858,  903695,\n",
       "        916960,  922013,  926145,  952023,  965474,  998720, 1015544,\n",
       "       1019300], dtype=int32)"
      ]
     },
     "execution_count": 76,
     "metadata": {},
     "output_type": "execute_result"
    }
   ],
   "source": []
  },
  {
   "cell_type": "code",
   "execution_count": 22,
   "metadata": {
    "colab": {
     "base_uri": "https://localhost:8080/",
     "height": 51
    },
    "colab_type": "code",
    "id": "O93nvnKSMrk2",
    "outputId": "aba71866-5fc5-46ef-9272-5b926eac427a"
   },
   "outputs": [
    {
     "name": "stdout",
     "output_type": "stream",
     "text": [
      "(160026,)\n",
      "(11767274,)\n"
     ]
    }
   ],
   "source": [
    "print(np.where(argmax == 1)[0].shape)\n",
    "print(np.where(argmax == 0)[0].shape)"
   ]
  },
  {
   "cell_type": "code",
   "execution_count": 23,
   "metadata": {
    "colab": {},
    "colab_type": "code",
    "id": "C7CS5MNhKHHQ"
   },
   "outputs": [],
   "source": [
    "#for seq in extracted_sequences:\n",
    "#  print(len(seq))"
   ]
  },
  {
   "cell_type": "code",
   "execution_count": 81,
   "metadata": {
    "colab": {},
    "colab_type": "code",
    "id": "aBKBpQqUD6XT"
   },
   "outputs": [
    {
     "data": {
      "text/plain": [
       "2300"
      ]
     },
     "execution_count": 81,
     "metadata": {},
     "output_type": "execute_result"
    }
   ],
   "source": [
    "spike_positions.size"
   ]
  },
  {
   "cell_type": "code",
   "execution_count": 34,
   "metadata": {
    "colab": {
     "base_uri": "https://localhost:8080/",
     "height": 34
    },
    "colab_type": "code",
    "id": "qj5cKZqyALve",
    "outputId": "3f722d04-6b3b-4492-f7bc-580f98379c34"
   },
   "outputs": [
    {
     "name": "stdout",
     "output_type": "stream",
     "text": [
      "2300\n"
     ]
    }
   ],
   "source": [
    "ground_truth = np.load(path_to_ground_truth_data);\n",
    "neuron_indexes = ground_truth[1, :];\n",
    "spike_positions = ground_truth[0, :];\n",
    "spike_positions = spike_positions.astype(int)\n",
    "\n",
    "spike_positions.shape\n",
    "total = spike_positions.size\n",
    "print(total)\n"
   ]
  },
  {
   "cell_type": "code",
   "execution_count": 35,
   "metadata": {
    "colab": {},
    "colab_type": "code",
    "id": "S5OUm7EdXdjC"
   },
   "outputs": [],
   "source": [
    "max_index_unique = predicted_index\n"
   ]
  },
  {
   "cell_type": "code",
   "execution_count": 36,
   "metadata": {
    "colab": {
     "base_uri": "https://localhost:8080/",
     "height": 34
    },
    "colab_type": "code",
    "id": "Tcwi1Oody_Jt",
    "outputId": "4337b448-d3ab-4b80-ec57-f38138584405"
   },
   "outputs": [
    {
     "data": {
      "text/plain": [
       "array([  167094,   302834,   777958, ..., 81397679, 82126888, 82357409])"
      ]
     },
     "execution_count": 36,
     "metadata": {},
     "output_type": "execute_result"
    }
   ],
   "source": [
    "spike_positions"
   ]
  },
  {
   "cell_type": "code",
   "execution_count": 37,
   "metadata": {},
   "outputs": [
    {
     "data": {
      "text/plain": [
       "array([   31057,    46636,    52325, ..., 83411328, 83460205, 83482510],\n",
       "      dtype=int32)"
      ]
     },
     "execution_count": 37,
     "metadata": {},
     "output_type": "execute_result"
    }
   ],
   "source": [
    "max_index_unique"
   ]
  },
  {
   "cell_type": "code",
   "execution_count": null,
   "metadata": {},
   "outputs": [],
   "source": []
  },
  {
   "cell_type": "code",
   "execution_count": 79,
   "metadata": {},
   "outputs": [
    {
     "data": {
      "text/plain": [
       "[<matplotlib.lines.Line2D at 0x7f752422ebe0>]"
      ]
     },
     "execution_count": 79,
     "metadata": {},
     "output_type": "execute_result"
    },
    {
     "data": {
      "image/png": "[encoded data removed]",
      "text/plain": [
       "<Figure size 432x288 with 1 Axes>"
      ]
     },
     "metadata": {
      "needs_background": "light"
     },
     "output_type": "display_data"
    }
   ],
   "source": [
    "rnd = np.random.randint(0, max_index_unique.size)\n",
    "plt.plot(recording.data[0, max_index_unique[rnd] -36: max_index_unique[rnd]+36].numpy().ravel())"
   ]
  },
  {
   "cell_type": "code",
   "execution_count": 40,
   "metadata": {
    "colab": {
     "base_uri": "https://localhost:8080/",
     "height": 51
    },
    "colab_type": "code",
    "id": "S7c4SnT4wtEl",
    "outputId": "3b419545-e7c3-49aa-8f58-484fb3186860"
   },
   "outputs": [
    {
     "name": "stdout",
     "output_type": "stream",
     "text": [
      "(12586,)\n"
     ]
    }
   ],
   "source": [
    "print(max_index_unique.shape)\n",
    "np.save(path_to_results, max_index_unique)"
   ]
  },
  {
   "cell_type": "code",
   "execution_count": 41,
   "metadata": {
    "colab": {},
    "colab_type": "code",
    "id": "s_A2PqtnAr4V"
   },
   "outputs": [],
   "source": [
    "is_found = np.zeros(max_index_unique.size)\n",
    "for i in range(0, max_index_unique.size):\n",
    "  found = np.where(max_index_unique[i] == spike_positions)\n",
    "  if(len(found[0]) == 0):\n",
    "    is_found[i] = 0\n",
    "  else:\n",
    "    is_found[i] = 1;"
   ]
  },
  {
   "cell_type": "code",
   "execution_count": 42,
   "metadata": {
    "colab": {
     "base_uri": "https://localhost:8080/",
     "height": 68
    },
    "colab_type": "code",
    "id": "IQxfsJr5CML-",
    "outputId": "851b20ac-626b-4d0b-db2b-b4487356f523",
    "scrolled": true
   },
   "outputs": [
    {
     "name": "stdout",
     "output_type": "stream",
     "text": [
      "1836\n",
      "10750\n"
     ]
    }
   ],
   "source": [
    "tp = np.where(is_found == 1)[0].size\n",
    "print(tp)\n",
    "fp = np.where(is_found == 0)[0].size\n",
    "print(fp)\n"
   ]
  },
  {
   "cell_type": "code",
   "execution_count": 32,
   "metadata": {
    "colab": {
     "base_uri": "https://localhost:8080/",
     "height": 68
    },
    "colab_type": "code",
    "id": "X9tjePkXoZNt",
    "outputId": "c83a526d-bc2d-4c33-c002-f6d188be5f37"
   },
   "outputs": [
    {
     "data": {
      "text/plain": [
       "0.11885220610922555"
      ]
     },
     "execution_count": 32,
     "metadata": {},
     "output_type": "execute_result"
    }
   ],
   "source": [
    "1926 / 16205"
   ]
  },
  {
   "cell_type": "code",
   "execution_count": null,
   "metadata": {
    "colab": {
     "base_uri": "https://localhost:8080/",
     "height": 34
    },
    "colab_type": "code",
    "id": "yFMkTdMfoG_p",
    "outputId": "0939ea82-fc77-47f3-9f22-7dd25a0a42c0"
   },
   "outputs": [],
   "source": []
  },
  {
   "cell_type": "code",
   "execution_count": 33,
   "metadata": {
    "colab": {
     "base_uri": "https://localhost:8080/",
     "height": 34
    },
    "colab_type": "code",
    "id": "dkvx5BvOraR5",
    "outputId": "90d178d4-3df3-4052-83ef-073bbabb1b0b"
   },
   "outputs": [
    {
     "data": {
      "text/plain": [
       "0.0"
      ]
     },
     "execution_count": 33,
     "metadata": {},
     "output_type": "execute_result"
    }
   ],
   "source": [
    "tp / total"
   ]
  },
  {
   "cell_type": "code",
   "execution_count": null,
   "metadata": {},
   "outputs": [],
   "source": [
    "      "
   ]
  },
  {
   "cell_type": "code",
   "execution_count": null,
   "metadata": {},
   "outputs": [],
   "source": []
  },
  {
   "cell_type": "raw",
   "metadata": {},
   "source": []
  },
  {
   "cell_type": "code",
   "execution_count": null,
   "metadata": {},
   "outputs": [],
   "source": []
  },
  {
   "cell_type": "code",
   "execution_count": null,
   "metadata": {},
   "outputs": [],
   "source": []
  },
  {
   "cell_type": "code",
   "execution_count": null,
   "metadata": {
    "colab": {},
    "colab_type": "code",
    "id": "-91B5hSunjzw"
   },
   "outputs": [],
   "source": [
    "# tp is spike\n",
    "# fp is noise but predicted as spike\n",
    "# tn is noise\n",
    "# fn is spike but predicted as noise"
   ]
  }
 ],
 "metadata": {
  "accelerator": "GPU",
  "colab": {
   "collapsed_sections": [],
   "name": "detect.ipynb",
   "provenance": [],
   "version": "0.3.2"
  },
  "kernelspec": {
   "display_name": "Python 3",
   "language": "python",
   "name": "python3"
  },
  "language_info": {
   "codemirror_mode": {
    "name": "ipython",
    "version": 3
   },
   "file_extension": ".py",
   "mimetype": "text/x-python",
   "name": "python",
   "nbconvert_exporter": "python",
   "pygments_lexer": "ipython3",
   "version": "3.5.2"
  }
 },
 "nbformat": 4,
 "nbformat_minor": 1
}
